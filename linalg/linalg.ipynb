{
 "cells": [
  {
   "cell_type": "markdown",
   "metadata": {},
   "source": [
    "Variables and Simple Arithmetic"
   ]
  },
  {
   "cell_type": "code",
   "execution_count": 1,
   "metadata": {
    "ExecuteTime": {
     "end_time": "2020-12-14T21:39:45.042540Z",
     "start_time": "2020-12-14T21:39:45.031900Z"
    }
   },
   "outputs": [
    {
     "data": {
      "text/plain": [
       "27.1"
      ]
     },
     "execution_count": 1,
     "metadata": {},
     "output_type": "execute_result"
    }
   ],
   "source": [
    "a = 7.1\n",
    "b = 10\n",
    "\n",
    "a + b*2"
   ]
  },
  {
   "cell_type": "code",
   "execution_count": 2,
   "metadata": {
    "ExecuteTime": {
     "end_time": "2020-12-14T21:39:45.049228Z",
     "start_time": "2020-12-14T21:39:45.045230Z"
    }
   },
   "outputs": [
    {
     "name": "stdout",
     "output_type": "stream",
     "text": [
      "171\n",
      "2015993900449\n"
     ]
    }
   ],
   "source": [
    "mike = 17\n",
    "\n",
    "print(mike*b + 1)\n",
    "print(mike**b)"
   ]
  },
  {
   "cell_type": "markdown",
   "metadata": {},
   "source": [
    "The numpy module"
   ]
  },
  {
   "cell_type": "code",
   "execution_count": 3,
   "metadata": {
    "ExecuteTime": {
     "end_time": "2020-12-14T21:39:45.199636Z",
     "start_time": "2020-12-14T21:39:45.195906Z"
    }
   },
   "outputs": [
    {
     "data": {
      "text/plain": [
       "[1, 2, 3, 4]"
      ]
     },
     "execution_count": 3,
     "metadata": {},
     "output_type": "execute_result"
    }
   ],
   "source": [
    "num_list = [1, 2, 3, 4]\n",
    "num_list"
   ]
  },
  {
   "cell_type": "code",
   "execution_count": 4,
   "metadata": {
    "ExecuteTime": {
     "end_time": "2020-12-14T21:39:45.277858Z",
     "start_time": "2020-12-14T21:39:45.201562Z"
    }
   },
   "outputs": [
    {
     "name": "stdout",
     "output_type": "stream",
     "text": [
      "2.5\n",
      "2.0\n"
     ]
    }
   ],
   "source": [
    "import numpy as np\n",
    "\n",
    "print(np.mean(num_list)) # calculate the mean of a list\n",
    "print(np.sqrt(4)) # calculate square root"
   ]
  },
  {
   "cell_type": "code",
   "execution_count": 5,
   "metadata": {
    "ExecuteTime": {
     "end_time": "2020-12-14T21:39:45.285371Z",
     "start_time": "2020-12-14T21:39:45.280889Z"
    }
   },
   "outputs": [
    {
     "data": {
      "text/plain": [
       "array([ 3. ,  4.5,  6. ,  7.5,  9. , 10.5, 12. ])"
      ]
     },
     "execution_count": 5,
     "metadata": {},
     "output_type": "execute_result"
    }
   ],
   "source": [
    "np.linspace(1, 10, 7) # create 7 linearly spaced numbers between 1 and 10\n",
    "\n",
    "fun_out = np.linspace(1, 10, 7)\n",
    "fun_out + 2"
   ]
  },
  {
   "cell_type": "code",
   "execution_count": 6,
   "metadata": {
    "ExecuteTime": {
     "end_time": "2020-12-14T21:39:45.291971Z",
     "start_time": "2020-12-14T21:39:45.288088Z"
    }
   },
   "outputs": [
    {
     "data": {
      "text/plain": [
       "array([  4.        ,  10.85714286,  17.71428571,  24.57142857,\n",
       "        31.42857143,  38.28571429,  45.14285714,  52.        ,\n",
       "        58.85714286,  65.71428571,  72.57142857,  79.42857143,\n",
       "        86.28571429,  93.14285714, 100.        ])"
      ]
     },
     "execution_count": 6,
     "metadata": {},
     "output_type": "execute_result"
    }
   ],
   "source": [
    "# create a list of 15 numbers from 4 to 100\n",
    "np.linspace(4, 100, 15)"
   ]
  },
  {
   "cell_type": "code",
   "execution_count": 7,
   "metadata": {
    "ExecuteTime": {
     "end_time": "2020-12-14T21:39:45.298184Z",
     "start_time": "2020-12-14T21:39:45.293900Z"
    }
   },
   "outputs": [
    {
     "data": {
      "text/plain": [
       "array([  4.,  11.,  18.,  25.,  31.,  38.,  45.,  52.,  59.,  66.,  73.,\n",
       "        79.,  86.,  93., 100.])"
      ]
     },
     "execution_count": 7,
     "metadata": {},
     "output_type": "execute_result"
    }
   ],
   "source": [
    "# round numbers to nearest integer, and store in variable\n",
    "fun_out = np.round(np.linspace(4, 100, 15))\n",
    "fun_out"
   ]
  },
  {
   "cell_type": "code",
   "execution_count": 8,
   "metadata": {
    "ExecuteTime": {
     "end_time": "2020-12-14T21:39:45.303745Z",
     "start_time": "2020-12-14T21:39:45.300329Z"
    }
   },
   "outputs": [
    {
     "name": "stdout",
     "output_type": "stream",
     "text": [
      "[  4.  11.  18.  25.  31.  38.  45.  52.  59.  66.  73.  79.  86.  93.\n",
      " 100.]\n"
     ]
    }
   ],
   "source": [
    "# print out the above\n",
    "print(fun_out)"
   ]
  },
  {
   "cell_type": "code",
   "execution_count": 9,
   "metadata": {
    "ExecuteTime": {
     "end_time": "2020-12-14T21:39:45.311302Z",
     "start_time": "2020-12-14T21:39:45.307479Z"
    }
   },
   "outputs": [
    {
     "data": {
      "text/plain": [
       "array([ 2.        ,  3.31662479,  4.24264069,  5.        ,  5.56776436,\n",
       "        6.164414  ,  6.70820393,  7.21110255,  7.68114575,  8.1240384 ,\n",
       "        8.54400375,  8.88819442,  9.2736185 ,  9.64365076, 10.        ])"
      ]
     },
     "execution_count": 9,
     "metadata": {},
     "output_type": "execute_result"
    }
   ],
   "source": [
    "# print out the square root of each number in list\n",
    "np.sqrt(fun_out)"
   ]
  },
  {
   "cell_type": "markdown",
   "metadata": {
    "ExecuteTime": {
     "end_time": "2020-12-13T22:35:55.695466Z",
     "start_time": "2020-12-13T22:35:55.691157Z"
    }
   },
   "source": [
    "The matplotlib module"
   ]
  },
  {
   "cell_type": "code",
   "execution_count": 10,
   "metadata": {
    "ExecuteTime": {
     "end_time": "2020-12-14T21:39:45.598605Z",
     "start_time": "2020-12-14T21:39:45.380261Z"
    }
   },
   "outputs": [],
   "source": [
    "import matplotlib.pyplot as plt\n",
    "import numpy as np"
   ]
  },
  {
   "cell_type": "code",
   "execution_count": 11,
   "metadata": {
    "ExecuteTime": {
     "end_time": "2020-12-14T21:39:45.717032Z",
     "start_time": "2020-12-14T21:39:45.600691Z"
    }
   },
   "outputs": [
    {
     "data": {
      "image/png": "[encoded data removed]",
      "text/plain": [
       "<Figure size 432x288 with 1 Axes>"
      ]
     },
     "metadata": {
      "needs_background": "light"
     },
     "output_type": "display_data"
    }
   ],
   "source": [
    "plt.plot(1, 3, 'r*')\n",
    "plt.show()"
   ]
  },
  {
   "cell_type": "markdown",
   "metadata": {},
   "source": [
    "- a vector is a list of data"
   ]
  },
  {
   "cell_type": "code",
   "execution_count": 12,
   "metadata": {
    "ExecuteTime": {
     "end_time": "2020-12-14T21:39:45.841226Z",
     "start_time": "2020-12-14T21:39:45.719526Z"
    }
   },
   "outputs": [
    {
     "name": "stdout",
     "output_type": "stream",
     "text": [
      "[-9 -8 -7 -6 -5 -4 -3 -2 -1  0  1  2  3  4  5  6  7  8  9]\n",
      "[81 64 49 36 25 16  9  4  1  0  1  4  9 16 25 36 49 64 81]\n"
     ]
    },
    {
     "data": {
      "image/png": "[encoded data removed]",
      "text/plain": [
       "<Figure size 432x288 with 1 Axes>"
      ]
     },
     "metadata": {
      "needs_background": "light"
     },
     "output_type": "display_data"
    }
   ],
   "source": [
    "x = np.arange(-9, 10) # specify a range of numbers from -9 to 9\n",
    "print(x) # x is a vector\n",
    "\n",
    "y = x**2\n",
    "print(y) # y is a vector\n",
    "\n",
    "plt.plot(x, y, 'r')\n",
    "plt.plot(x, y/2, 'gs')\n",
    "\n",
    "plt.show()"
   ]
  },
  {
   "cell_type": "code",
   "execution_count": 13,
   "metadata": {
    "ExecuteTime": {
     "end_time": "2020-12-14T21:39:45.970364Z",
     "start_time": "2020-12-14T21:39:45.843473Z"
    }
   },
   "outputs": [
    {
     "data": {
      "image/png": "[encoded data removed]",
      "text/plain": [
       "<Figure size 432x288 with 1 Axes>"
      ]
     },
     "metadata": {
      "needs_background": "light"
     },
     "output_type": "display_data"
    }
   ],
   "source": [
    "plt.plot([0, 3], [-1, 1], label=\"first\")\n",
    "plt.plot([-2, 0], [-4, 1], label=\"second\")\n",
    "plt.legend()\n",
    "\n",
    "plt.show()"
   ]
  },
  {
   "cell_type": "markdown",
   "metadata": {},
   "source": [
    "- a matrix is a spreadsheet or table of data\n",
    "    - represented as images in graphics"
   ]
  },
  {
   "cell_type": "code",
   "execution_count": 14,
   "metadata": {
    "ExecuteTime": {
     "end_time": "2020-12-14T21:39:45.976758Z",
     "start_time": "2020-12-14T21:39:45.972611Z"
    }
   },
   "outputs": [
    {
     "data": {
      "text/plain": [
       "array([[5, 2, 0, 8, 9],\n",
       "       [5, 8, 7, 6, 5],\n",
       "       [9, 7, 9, 1, 9],\n",
       "       [3, 5, 0, 1, 2]])"
      ]
     },
     "execution_count": 14,
     "metadata": {},
     "output_type": "execute_result"
    }
   ],
   "source": [
    "M = np.random.randint(0, 10, size=(4,5)) # create 4R 5C matrix of random numbers between 0 and 9\n",
    "M"
   ]
  },
  {
   "cell_type": "code",
   "execution_count": 15,
   "metadata": {
    "ExecuteTime": {
     "end_time": "2020-12-14T21:39:46.107569Z",
     "start_time": "2020-12-14T21:39:45.978362Z"
    }
   },
   "outputs": [
    {
     "data": {
      "image/png": "[encoded data removed]",
      "text/plain": [
       "<Figure size 432x288 with 1 Axes>"
      ]
     },
     "metadata": {
      "needs_background": "light"
     },
     "output_type": "display_data"
    }
   ],
   "source": [
    "plt.imshow(M) # plot a matrix, box counts by color\n",
    "plt.show()"
   ]
  },
  {
   "cell_type": "code",
   "execution_count": 16,
   "metadata": {
    "ExecuteTime": {
     "end_time": "2020-12-14T21:39:46.229864Z",
     "start_time": "2020-12-14T21:39:46.109875Z"
    }
   },
   "outputs": [
    {
     "data": {
      "image/png": "[encoded data removed]",
      "text/plain": [
       "<Figure size 432x288 with 1 Axes>"
      ]
     },
     "metadata": {
      "needs_background": "light"
     },
     "output_type": "display_data"
    }
   ],
   "source": [
    "# create a red x through our matrix\n",
    "plt.imshow(M)\n",
    "plt.plot([0, 4], [0, 3], 'r')\n",
    "plt.plot([4, 0], [0, 3], 'r')\n",
    "plt.show()"
   ]
  },
  {
   "cell_type": "markdown",
   "metadata": {},
   "source": [
    "Vectors and Scalar Multiplication\n",
    "\n",
    "- Vector are an ordered list of numbers (ORDER MATTERS)\n",
    "- Dimensionality: The number of elements\n",
    "\n",
    "Types of vectors:\n",
    "1) Column vectors\n",
    "\n",
    "2) Row vectors"
   ]
  },
  {
   "cell_type": "code",
   "execution_count": 17,
   "metadata": {
    "ExecuteTime": {
     "end_time": "2020-12-14T21:39:46.236117Z",
     "start_time": "2020-12-14T21:39:46.232873Z"
    }
   },
   "outputs": [
    {
     "name": "stdout",
     "output_type": "stream",
     "text": [
      "[[4]\n",
      " [3]\n",
      " [3]\n",
      " [3]\n",
      " [4]]\n",
      "\n",
      "[4 1 4]\n"
     ]
    }
   ],
   "source": [
    "# 5 Dimensional Vector\n",
    "print(np.random.randint(0, 5, size=(5, 1))) # Col Vector\n",
    "print()\n",
    "\n",
    "# 3 Dimensional Vector\n",
    "print(np.random.randint(0, 5, 3)) # Row Vector"
   ]
  },
  {
   "cell_type": "markdown",
   "metadata": {},
   "source": [
    "Vector-Scalar Multiplication\n",
    "$\\lambda v$\n",
    "\n",
    "- $\\lambda$: a single number\n",
    "- $v$: a vector"
   ]
  },
  {
   "cell_type": "code",
   "execution_count": 18,
   "metadata": {
    "ExecuteTime": {
     "end_time": "2020-12-14T21:39:46.241161Z",
     "start_time": "2020-12-14T21:39:46.238120Z"
    }
   },
   "outputs": [
    {
     "name": "stdout",
     "output_type": "stream",
     "text": [
      "[[4]\n",
      " [3]\n",
      " [4]]\n"
     ]
    }
   ],
   "source": [
    "# Example\n",
    "\n",
    "s = 7 # our scalar\n",
    "v = np.random.randint(0, 5, size=(3, 1)) # our vector\n",
    "\n",
    "print(v) # printing our vector"
   ]
  },
  {
   "cell_type": "code",
   "execution_count": 19,
   "metadata": {
    "ExecuteTime": {
     "end_time": "2020-12-14T21:39:46.245969Z",
     "start_time": "2020-12-14T21:39:46.242751Z"
    }
   },
   "outputs": [
    {
     "data": {
      "text/plain": [
       "array([[28],\n",
       "       [21],\n",
       "       [28]])"
      ]
     },
     "execution_count": 19,
     "metadata": {},
     "output_type": "execute_result"
    }
   ],
   "source": [
    "# vector-scalar multiplication\n",
    "s*v"
   ]
  },
  {
   "cell_type": "markdown",
   "metadata": {},
   "source": [
    "- $\\lambda \\geq 1$: new vector will extend beyond original\n",
    "- $\\lambda [0,1]$: new vector will be smaller than original\n",
    "- $\\lambda \\leq 0$: new vector will be 180 degree mirror of original\n",
    "\n",
    "New vector is ALWAYS stays on the line of the original vector.\n",
    "\n",
    "Vectors must be array NOT LIST (check np.array)"
   ]
  },
  {
   "cell_type": "markdown",
   "metadata": {},
   "source": [
    "PLOT VECTORS IN PYTHON (3D < less Graphs)"
   ]
  },
  {
   "cell_type": "code",
   "execution_count": 20,
   "metadata": {
    "ExecuteTime": {
     "end_time": "2020-12-14T21:39:46.328371Z",
     "start_time": "2020-12-14T21:39:46.325460Z"
    }
   },
   "outputs": [],
   "source": [
    "vec = np.array([1,2])\n",
    "s1 = 2\n",
    "s2 = .5\n",
    "s3 = -1"
   ]
  },
  {
   "cell_type": "code",
   "execution_count": 21,
   "metadata": {
    "ExecuteTime": {
     "end_time": "2020-12-14T21:39:46.504895Z",
     "start_time": "2020-12-14T21:39:46.330786Z"
    }
   },
   "outputs": [
    {
     "data": {
      "image/png": "[encoded data removed]",
      "text/plain": [
       "<Figure size 432x288 with 1 Axes>"
      ]
     },
     "metadata": {
      "needs_background": "light"
     },
     "output_type": "display_data"
    }
   ],
   "source": [
    "plt.plot([0, vec[0]], [0, vec[1]], 'bs-', label='original')\n",
    "plt.plot([0, vec[0]*s1], [0, vec[1]*s1], 'ro-', label='positive')\n",
    "plt.plot([0, vec[0]*s2], [0, vec[1]*s2], 'kp-', label='0to1')\n",
    "plt.plot([0, vec[0]*s3],[0, vec[1]*s3], 'g*-', label='negative')\n",
    "\n",
    "plt.axis('square')\n",
    "plt.xlim([-4, 4])\n",
    "plt.ylim([-4, 4])\n",
    "plt.grid()\n",
    "plt.legend()\n",
    "plt.show()"
   ]
  },
  {
   "cell_type": "code",
   "execution_count": 22,
   "metadata": {
    "ExecuteTime": {
     "end_time": "2020-12-14T21:39:46.510198Z",
     "start_time": "2020-12-14T21:39:46.507462Z"
    }
   },
   "outputs": [],
   "source": [
    "# create two vectors (2D vectors)\n",
    "v1 = np.array(np.random.randint(0, 100, 2))\n",
    "v2 = np.array(np.random.randint(0, 100, 2))"
   ]
  },
  {
   "cell_type": "code",
   "execution_count": 23,
   "metadata": {
    "ExecuteTime": {
     "end_time": "2020-12-14T21:39:46.651959Z",
     "start_time": "2020-12-14T21:39:46.512192Z"
    }
   },
   "outputs": [
    {
     "data": {
      "image/png": "[encoded data removed]",
      "text/plain": [
       "<Figure size 432x288 with 1 Axes>"
      ]
     },
     "metadata": {
      "needs_background": "light"
     },
     "output_type": "display_data"
    }
   ],
   "source": [
    "# plot each vector\n",
    "plt.plot([0, v1[0]], [0, v1[1]], 'bs-', label='v1')\n",
    "plt.plot([0, v2[0]], [0, v2[1]], 'o-', label='v2')\n",
    "\n",
    "plt.axis('square')\n",
    "plt.xlim([-4, 4])\n",
    "plt.ylim([-4, 4])\n",
    "plt.grid()\n",
    "plt.legend()\n",
    "plt.show()"
   ]
  },
  {
   "cell_type": "code",
   "execution_count": 24,
   "metadata": {
    "ExecuteTime": {
     "end_time": "2020-12-14T21:39:46.805307Z",
     "start_time": "2020-12-14T21:39:46.654106Z"
    }
   },
   "outputs": [
    {
     "data": {
      "image/png": "[encoded data removed]",
      "text/plain": [
       "<Figure size 432x288 with 1 Axes>"
      ]
     },
     "metadata": {
      "needs_background": "light"
     },
     "output_type": "display_data"
    }
   ],
   "source": [
    "# plot v1+v2, v1-v2, (v1*4 + v2/2)\n",
    "# v1+v2\n",
    "plt.plot([0, (v1+v2)[0]], [0, (v1+v2)[1]], label='v1+v2')\n",
    "\n",
    "# v1-v2\n",
    "plt.plot([0, (v1-v2)[0]], [0, (v1-v2)[1]], label='v1-v2')\n",
    "\n",
    "# (v1*4 + v2/2)\n",
    "plt.plot([0, ((v1*4 + v2/2))[0]], [0, ((v1*4 + v2/2))[1]], label='(v1*4 + v2/2)')\n",
    "\n",
    "plt.axis('square')\n",
    "plt.xlim([-10, 20])\n",
    "plt.ylim([-10, 20])\n",
    "plt.grid()\n",
    "plt.legend()\n",
    "plt.show()"
   ]
  },
  {
   "cell_type": "markdown",
   "metadata": {},
   "source": [
    "The Vector Dot Product - Most important operation in LinAlg\n",
    "\n",
    "Various Product DOT Notations:\n",
    "- $\\alpha$\n",
    "- $ab$\n",
    "- $<a,b>$\n",
    "- $a^{T}b$ (most popular) - a transpose b\n",
    "- $\\sum a_i b_i$"
   ]
  },
  {
   "cell_type": "code",
   "execution_count": 25,
   "metadata": {
    "ExecuteTime": {
     "end_time": "2020-12-14T21:39:46.813004Z",
     "start_time": "2020-12-14T21:39:46.807404Z"
    }
   },
   "outputs": [
    {
     "name": "stdout",
     "output_type": "stream",
     "text": [
      "[1 2 3 4 5]\n",
      "[5 4 3 2 1]\n",
      "[5, 8, 9, 8, 5]\n",
      "35\n"
     ]
    }
   ],
   "source": [
    "# Example\n",
    "# Define two vectors of the same length\n",
    "a = np.array([1,2,3,4,5]) #5D Vector\n",
    "b = np.array([5,4,3,2,1]) #5D Vector\n",
    "\n",
    "print(a)\n",
    "print(b)\n",
    "\n",
    "# Now we need to multiple each element in Va by it's corresponding element in Vb\n",
    "dp = []\n",
    "for i in range(0, len(a)):\n",
    "    dp.append(a[i] * b[i])\n",
    "print(dp)\n",
    "\n",
    "# Now let's add them together\n",
    "print(np.sum(np.array(dp)))\n",
    "\n",
    "# Dot product is always just 1 number, it's just a scalar, \n",
    "# regarless of the number of elements in a vector\n",
    "# the operation fails when you have vectors of different sizes"
   ]
  },
  {
   "cell_type": "code",
   "execution_count": 26,
   "metadata": {
    "ExecuteTime": {
     "end_time": "2020-12-14T21:39:46.820042Z",
     "start_time": "2020-12-14T21:39:46.816580Z"
    }
   },
   "outputs": [
    {
     "data": {
      "text/plain": [
       "35"
      ]
     },
     "execution_count": 26,
     "metadata": {},
     "output_type": "execute_result"
    }
   ],
   "source": [
    "# NUMPYs has a built-in dot function\n",
    "np.dot(a, b) # same answer as above"
   ]
  },
  {
   "cell_type": "code",
   "execution_count": 27,
   "metadata": {
    "ExecuteTime": {
     "end_time": "2020-12-14T21:39:46.826068Z",
     "start_time": "2020-12-14T21:39:46.822736Z"
    }
   },
   "outputs": [
    {
     "data": {
      "text/plain": [
       "32"
      ]
     },
     "execution_count": 27,
     "metadata": {},
     "output_type": "execute_result"
    }
   ],
   "source": [
    "c = np.array([0,3,4,1,6])\n",
    "np.dot(b, c)"
   ]
  },
  {
   "cell_type": "code",
   "execution_count": 28,
   "metadata": {
    "ExecuteTime": {
     "end_time": "2020-12-14T21:39:46.830865Z",
     "start_time": "2020-12-14T21:39:46.827582Z"
    }
   },
   "outputs": [
    {
     "data": {
      "text/plain": [
       "0"
      ]
     },
     "execution_count": 28,
     "metadata": {},
     "output_type": "execute_result"
    }
   ],
   "source": [
    "# Let's try it with a zeros vector\n",
    "d = np.array([0,0,0,0,0])\n",
    "np.dot(c, d) # you'll always get 0 with a zeroes vector"
   ]
  },
  {
   "cell_type": "code",
   "execution_count": 29,
   "metadata": {
    "ExecuteTime": {
     "end_time": "2020-12-14T21:39:46.835835Z",
     "start_time": "2020-12-14T21:39:46.832191Z"
    }
   },
   "outputs": [
    {
     "data": {
      "text/plain": [
       "0"
      ]
     },
     "execution_count": 29,
     "metadata": {},
     "output_type": "execute_result"
    }
   ],
   "source": [
    "# Another way to get a 0 dot product with no zeroes vector\n",
    "# An example of orthognonal\n",
    "e = np.array([-4, 3, 1])\n",
    "f = np.array([2, 3, -1])\n",
    "np.dot(e, f) \n",
    "# vector e is orthogonal to vector f\n",
    "# orthogonal means two vectors have a dot product of 0"
   ]
  },
  {
   "cell_type": "code",
   "execution_count": 30,
   "metadata": {
    "ExecuteTime": {
     "end_time": "2020-12-14T21:39:46.840556Z",
     "start_time": "2020-12-14T21:39:46.837295Z"
    }
   },
   "outputs": [
    {
     "name": "stdout",
     "output_type": "stream",
     "text": [
      "0\n",
      "8\n",
      "-12\n"
     ]
    }
   ],
   "source": [
    "# define 3 2D vectors, two of them are orthogonal, but neither orthogonal to the third\n",
    "v1 = np.array([1, 2])\n",
    "v2 = np.array([-4, 2])\n",
    "v3 = np.array([4, 2])\n",
    "\n",
    "print(np.dot(v1, v2)) # v1 is orthogonal to v2\n",
    "print(np.dot(v1, v3))\n",
    "print(np.dot(v2, v3))"
   ]
  },
  {
   "cell_type": "code",
   "execution_count": 31,
   "metadata": {
    "ExecuteTime": {
     "end_time": "2020-12-14T21:39:46.978516Z",
     "start_time": "2020-12-14T21:39:46.842015Z"
    }
   },
   "outputs": [
    {
     "data": {
      "image/png": "[encoded data removed]",
      "text/plain": [
       "<Figure size 432x288 with 1 Axes>"
      ]
     },
     "metadata": {
      "needs_background": "light"
     },
     "output_type": "display_data"
    }
   ],
   "source": [
    "# plot all three vectors on a 2D plane, make sure axis are square and equal\n",
    "# v1\n",
    "plt.plot([0, v1[0]], [0, v1[1]], label='v1')\n",
    "\n",
    "# v2\n",
    "plt.plot([0, v2[0]], [0, v2[1]], label='v2')\n",
    "\n",
    "# v3\n",
    "plt.plot([0, v3[0]], [0, v3[1]], label='v3')\n",
    "\n",
    "plt.axis('square')\n",
    "plt.xlim([-5, 5])\n",
    "plt.ylim([-5, 5])\n",
    "plt.grid()\n",
    "plt.legend()\n",
    "plt.show()"
   ]
  },
  {
   "cell_type": "markdown",
   "metadata": {},
   "source": [
    "Matrices - a 2D collection of numbers, like a spreadsheet\n",
    "- the size is 4x3, rows x cols\n",
    "- **diagonal** of a matrix refers to the numbers that start from the top-left and go one-down, one-right\n",
    "- **off-diagonal** refers to everything outside of the diagonal\n",
    "- same rows and same cols = square matrix, a special matrix\n",
    "- **rectangular** matrices still have diagonals\n",
    "\n",
    "**Special types of Matrices**\n",
    "- Symmetric\n",
    "    - Same num rows x same num cols\n",
    "    - elements above the diagonal mirror elements below diagonal\n",
    "        - can fold over and see mirrored numbers\n",
    "- Identity (very important in LinAlg\n",
    "    - All 1s in the diagonal\n",
    "    - All 0s in the off-diagonal\n",
    "    - Has it's own syntax:\n",
    "        - $I_2$, a 2x2 identity matrix \n",
    "        - $I_5$, a 5x5 identity matrix\n",
    "        - $I$, identity matrix\n",
    "- Diagonal\n",
    "    - All diagonal elements are non-zero\n",
    "    - All non-diagonal elements are zero\n",
    "    - Identity matrix is a special case of the diagonal matrix"
   ]
  },
  {
   "cell_type": "code",
   "execution_count": 32,
   "metadata": {
    "ExecuteTime": {
     "end_time": "2020-12-14T21:39:46.986212Z",
     "start_time": "2020-12-14T21:39:46.980593Z"
    }
   },
   "outputs": [
    {
     "name": "stdout",
     "output_type": "stream",
     "text": [
      "[[ 1 -1  0]\n",
      " [-1 -2 -4]\n",
      " [ 0 -4  5]]\n",
      "\n",
      "[[1 0 0]\n",
      " [0 1 0]\n",
      " [0 0 1]]\n",
      "\n",
      "[[ 1  0  0]\n",
      " [ 0 -2  0]\n",
      " [ 0  0  5]]\n",
      "\n",
      "[[ 1  0  0  0]\n",
      " [ 0 -2  0  0]\n",
      " [ 0  0  5  0]]\n"
     ]
    }
   ],
   "source": [
    "# symmetric matrix\n",
    "print(np.array([[1,-1,0], [-1,-2,-4], [0,-4,5]]), end='\\n\\n')\n",
    "\n",
    "# identity matrix\n",
    "print(np.array([[1,0,0], [0,1,0], [0,0,1]]), end='\\n\\n')\n",
    "\n",
    "# square diagonal matrix\n",
    "print(np.array([[1,0,0], [0,-2,0], [0,0,5]]), end='\\n\\n')\n",
    "\n",
    "# rectangular diagonal matrix\n",
    "print(np.array([[1,0,0,0], [0,-2,0, 0], [0,0,5, 0]]))"
   ]
  },
  {
   "cell_type": "code",
   "execution_count": 33,
   "metadata": {
    "ExecuteTime": {
     "end_time": "2020-12-14T21:39:46.991905Z",
     "start_time": "2020-12-14T21:39:46.988251Z"
    }
   },
   "outputs": [
    {
     "name": "stdout",
     "output_type": "stream",
     "text": [
      "[[1. 0. 0.]\n",
      " [0. 1. 0.]\n",
      " [0. 0. 1.]]\n",
      "\n",
      "[[0. 0. 0. 0.]\n",
      " [0. 0. 0. 0.]\n",
      " [0. 0. 0. 0.]]\n",
      "\n",
      "[[14 14 14 14]\n",
      " [14 14 14 14]\n",
      " [14 14 14 14]]\n"
     ]
    }
   ],
   "source": [
    "# NUMPYS WAY OF IDENTITY MATRIX\n",
    "# ID MATRIX\n",
    "print(np.eye(3), end='\\n\\n') # creates a 3x3 identity matrix\n",
    "\n",
    "# Zeros matrix\n",
    "print(np.zeros((3,4)), end='\\n\\n') # 3x4 matrix of all zeros\n",
    "\n",
    "# Full Matrix\n",
    "# creates a matrix of specified size, and number to fill it in\n",
    "print(np.full((3,4), 14)) # 3x4 matrix with all 14s"
   ]
  },
  {
   "cell_type": "code",
   "execution_count": 34,
   "metadata": {
    "ExecuteTime": {
     "end_time": "2020-12-14T21:39:46.997855Z",
     "start_time": "2020-12-14T21:39:46.993430Z"
    }
   },
   "outputs": [
    {
     "name": "stdout",
     "output_type": "stream",
     "text": [
      "[[0. 0.]\n",
      " [0. 0.]]\n",
      "[[10 10]\n",
      " [10 10]]\n",
      "[[5 5]\n",
      " [5 5]\n",
      " [5 5]]\n"
     ]
    }
   ],
   "source": [
    "# create 3 matrices: 2x2, 2x2, 3x2\n",
    "M1 = np.zeros((2,2))\n",
    "M2 = np.full((2,2), 10)\n",
    "M3 = np.full((3,2), 5)\n",
    "\n",
    "print(M1)\n",
    "print(M2)\n",
    "print(M3)"
   ]
  },
  {
   "cell_type": "code",
   "execution_count": 35,
   "metadata": {
    "ExecuteTime": {
     "end_time": "2020-12-14T21:39:47.002942Z",
     "start_time": "2020-12-14T21:39:46.999416Z"
    }
   },
   "outputs": [
    {
     "data": {
      "text/plain": [
       "array([[0., 0.],\n",
       "       [0., 0.],\n",
       "       [0., 0.]])"
      ]
     },
     "execution_count": 35,
     "metadata": {},
     "output_type": "execute_result"
    }
   ],
   "source": [
    "M1_prod_M2 = np.dot(M1, M2)\n",
    "np.dot(M3, M1_prod_M2)"
   ]
  },
  {
   "cell_type": "markdown",
   "metadata": {},
   "source": [
    "Transposing Vectors and Matrices\n",
    "- Transposing doesn't change the elements\n",
    "- Doesn't change the order\n",
    "- Simply changes the dimensions\n",
    "- FLIPS ROWS INTO COLS AND COLS INTO ROWS\n",
    "\n",
    "**SYMMETRIC MATRIX**\n",
    "\n",
    "$A = A^T$, definition of a matrix"
   ]
  },
  {
   "cell_type": "code",
   "execution_count": 36,
   "metadata": {
    "ExecuteTime": {
     "end_time": "2020-12-14T21:39:47.007978Z",
     "start_time": "2020-12-14T21:39:47.004623Z"
    }
   },
   "outputs": [
    {
     "name": "stdout",
     "output_type": "stream",
     "text": [
      "[[ 2  3 -1]]\n",
      "\n",
      "[[ 2]\n",
      " [ 3]\n",
      " [-1]]\n"
     ]
    }
   ],
   "source": [
    "# TRANSPOSING VECTORS\n",
    "v1 = np.array([2,3,-1], ndmin=2)\n",
    "\n",
    "print(v1) # row vector\n",
    "print()\n",
    "print(v1.T) # col vector, this is how we transpose my folk!"
   ]
  },
  {
   "cell_type": "code",
   "execution_count": 37,
   "metadata": {
    "ExecuteTime": {
     "end_time": "2020-12-14T21:39:47.012866Z",
     "start_time": "2020-12-14T21:39:47.009479Z"
    }
   },
   "outputs": [
    {
     "name": "stdout",
     "output_type": "stream",
     "text": [
      "[[ 5. -0.  2.]\n",
      " [-4. -6.  4.]\n",
      " [ 4.  2.  3.]]\n",
      "\n",
      "[[ 5. -4.  4.]\n",
      " [-0. -6.  2.]\n",
      " [ 2.  4.  3.]]\n"
     ]
    }
   ],
   "source": [
    "# TRANSPOSING MATRICES\n",
    "M = np.round(np.random.randn(3,3) * 5)\n",
    "\n",
    "print(M)\n",
    "print()\n",
    "print(M.T)"
   ]
  },
  {
   "cell_type": "code",
   "execution_count": 38,
   "metadata": {
    "ExecuteTime": {
     "end_time": "2020-12-14T21:39:47.021157Z",
     "start_time": "2020-12-14T21:39:47.017037Z"
    }
   },
   "outputs": [
    {
     "name": "stdout",
     "output_type": "stream",
     "text": [
      "[[ 0.  7.  5.]\n",
      " [11.  7. -3.]\n",
      " [-1. -2.  8.]]\n",
      "\n",
      "[[ 0. 11. -1.]\n",
      " [ 7.  7. -2.]\n",
      " [ 5. -3.  8.]]\n",
      "\n",
      "[[ 0.  7.  5.]\n",
      " [11.  7. -3.]\n",
      " [-1. -2.  8.]]\n"
     ]
    }
   ],
   "source": [
    "# what happens when we transpose twice?\n",
    "M = np.round(np.random.randn(3,3) * 5)\n",
    "MT = M.T\n",
    "MTT = MT.T\n",
    "\n",
    "print(M)\n",
    "print()\n",
    "print(MT)\n",
    "print()\n",
    "print(MTT)\n",
    "\n",
    "# When we transpose twice we get the original matrix"
   ]
  },
  {
   "cell_type": "code",
   "execution_count": 39,
   "metadata": {
    "ExecuteTime": {
     "end_time": "2020-12-14T21:39:47.026559Z",
     "start_time": "2020-12-14T21:39:47.023291Z"
    }
   },
   "outputs": [
    {
     "name": "stdout",
     "output_type": "stream",
     "text": [
      "[[-2.  7.  5.]\n",
      " [-0. -1.  1.]\n",
      " [ 4. -7. -0.]\n",
      " [ 4.  3.  1.]]\n",
      "\n",
      "[[-2. -0.  4.  4.]\n",
      " [ 7. -1. -7.  3.]\n",
      " [ 5.  1. -0.  1.]]\n"
     ]
    }
   ],
   "source": [
    "# confirm the transpose operation works on non-square matrices\n",
    "M1 = np.round(np.random.randn(4,3) * 5)\n",
    "print(M1)\n",
    "print()\n",
    "print(M1.T)\n",
    "\n",
    "# transposing non-square matrices results in the dimensions being flipped.\n",
    "# transposing a 2x3 makes it a 3x2. transposing a 3x8 makes it a 8x3"
   ]
  },
  {
   "cell_type": "markdown",
   "metadata": {},
   "source": [
    "Matrix Multiplication - Multiplying two matrices\n",
    "- $AB$ Terminology\n",
    "    - A left-multiples B\n",
    "    - A pre-multiples B\n",
    "    - B right-multiples A\n",
    "    - B post-multiplies A\n",
    "- The rules for when two matrices can be multiplied\n",
    "    - MxN Matrix\n",
    "    - NxK Matrix\n",
    "    - If the number of cols in MA is the same as the number of rows in MB then you can multiply the matrices\n",
    "        - Can multiple matrices if inner dimensions line up\n",
    "    - The outer dimensions will be the resulting dimensions"
   ]
  },
  {
   "cell_type": "markdown",
   "metadata": {
    "ExecuteTime": {
     "end_time": "2020-12-14T20:09:18.533839Z",
     "start_time": "2020-12-14T20:09:18.531621Z"
    }
   },
   "source": [
    "Example: Can we multply these matrices?\n",
    "\n",
    "A    B\n",
    "5x2   2x7\n",
    "\n",
    "YES! The inner dimensions are the same\n",
    "\n",
    "Example: Can we multply these matrices?\n",
    "B    A\n",
    "2x7   5x2\n",
    "NOPE! The inner dimensions DO NOT MATCH UP\n",
    "\n",
    "Example: Can we multply these matrices?\n",
    "C    A\n",
    "5x7   5x2\n",
    "\n",
    "NOPE! The inner dimensions DO NOT MATCH UP HOWEVER, We can do this\n",
    "\n",
    "$C^T A$, which transposes C to 7x5\n",
    "\n",
    "C    A\n",
    "7x5   5x2\n",
    "\n",
    "The Math is Mathing!"
   ]
  },
  {
   "cell_type": "code",
   "execution_count": 40,
   "metadata": {
    "ExecuteTime": {
     "end_time": "2020-12-14T21:39:47.121557Z",
     "start_time": "2020-12-14T21:39:47.115754Z"
    }
   },
   "outputs": [
    {
     "name": "stdout",
     "output_type": "stream",
     "text": [
      "[[  31.  125.  -52.   -4.]\n",
      " [ -19. -122.   52.   -8.]\n",
      " [ -16.  -85.   17.  -24.]\n",
      " [ -59.   53.  -48.   61.]]\n",
      "\n",
      "[[  31.  125.  -52.   -4.]\n",
      " [ -19. -122.   52.   -8.]\n",
      " [ -16.  -85.   17.  -24.]\n",
      " [ -59.   53.  -48.   61.]]\n"
     ]
    }
   ],
   "source": [
    "# Examples\n",
    "M1 = np.round(np.random.randn(4,5) * 5)\n",
    "M2 = np.round(np.random.randn(4,5) * 5)\n",
    "\n",
    "# Sizes 4x5 4x5\n",
    "# Can't multiply right out the gate\n",
    "\n",
    "# Transpose to a 5x4\n",
    "M2T = M2.T\n",
    "\n",
    "# Now let's multiple the matrices\n",
    "print(np.matmul(M1, M2T)) # one way to multiple matrices\n",
    "print()\n",
    "print(M1@M2T) # a second way to multiple matrices"
   ]
  },
  {
   "cell_type": "code",
   "execution_count": 41,
   "metadata": {
    "ExecuteTime": {
     "end_time": "2020-12-14T21:39:47.127302Z",
     "start_time": "2020-12-14T21:39:47.123704Z"
    }
   },
   "outputs": [
    {
     "name": "stdout",
     "output_type": "stream",
     "text": [
      "[[4. 1. 4.]\n",
      " [3. 2. 2.]\n",
      " [5. 5. 2.]]\n"
     ]
    }
   ],
   "source": [
    "# create 3x3 of integers\n",
    "M = np.round(np.random.rand(3,3) * 5)\n",
    "print(M)"
   ]
  },
  {
   "cell_type": "code",
   "execution_count": 42,
   "metadata": {
    "ExecuteTime": {
     "end_time": "2020-12-14T21:39:47.134288Z",
     "start_time": "2020-12-14T21:39:47.129627Z"
    }
   },
   "outputs": [
    {
     "name": "stdout",
     "output_type": "stream",
     "text": [
      "[[4. 1. 4.]\n",
      " [3. 2. 2.]\n",
      " [5. 5. 2.]]\n",
      "\n",
      "[[0. 0. 0.]\n",
      " [0. 0. 0.]\n",
      " [0. 0. 0.]]\n",
      "\n",
      "[[0. 0. 0.]\n",
      " [0. 0. 0.]\n",
      " [0. 0. 0.]]\n"
     ]
    }
   ],
   "source": [
    "# multiply matrix by 1) identity, 2) zeros, 3) matrix's transpose\n",
    "\n",
    "## multiply by identity\n",
    "I = np.eye(3)\n",
    "print(np.matmul(M, I))\n",
    "\n",
    "print()\n",
    "\n",
    "## multiply by zeros\n",
    "Z = np.zeros((3,3))\n",
    "print(np.matmul(M, Z))\n",
    "\n",
    "print()\n",
    "\n",
    "## matrix's transpose\n",
    "Z = np.zeros((3,3))\n",
    "print(np.matmul(M, Z))"
   ]
  }
 ],
 "metadata": {
  "hide_input": false,
  "kernelspec": {
   "display_name": "Python 3",
   "language": "python",
   "name": "python3"
  },
  "language_info": {
   "codemirror_mode": {
    "name": "ipython",
    "version": 3
   },
   "file_extension": ".py",
   "mimetype": "text/x-python",
   "name": "python",
   "nbconvert_exporter": "python",
   "pygments_lexer": "ipython3",
   "version": "3.7.0"
  },
  "latex_envs": {
   "LaTeX_envs_menu_present": true,
   "autoclose": false,
   "autocomplete": false,
   "bibliofile": "biblio.bib",
   "cite_by": "apalike",
   "current_citInitial": 1,
   "eqLabelWithNumbers": true,
   "eqNumInitial": 1,
   "hotkeys": {
    "equation": "Ctrl-E",
    "itemize": "Ctrl-I"
   },
   "labels_anchors": false,
   "latex_user_defs": false,
   "report_style_numbering": false,
   "user_envs_cfg": false
  },
  "toc": {
   "base_numbering": 1,
   "nav_menu": {},
   "number_sections": true,
   "sideBar": true,
   "skip_h1_title": false,
   "title_cell": "Table of Contents",
   "title_sidebar": "Contents",
   "toc_cell": false,
   "toc_position": {},
   "toc_section_display": true,
   "toc_window_display": false
  },
  "varInspector": {
   "cols": {
    "lenName": 16,
    "lenType": 16,
    "lenVar": 40
   },
   "kernels_config": {
    "python": {
     "delete_cmd_postfix": "",
     "delete_cmd_prefix": "del ",
     "library": "var_list.py",
     "varRefreshCmd": "print(var_dic_list())"
    },
    "r": {
     "delete_cmd_postfix": ") ",
     "delete_cmd_prefix": "rm(",
     "library": "var_list.r",
     "varRefreshCmd": "cat(var_dic_list()) "
    }
   },
   "types_to_exclude": [
    "module",
    "function",
    "builtin_function_or_method",
    "instance",
    "_Feature"
   ],
   "window_display": false
  }
 },
 "nbformat": 4,
 "nbformat_minor": 4
}
