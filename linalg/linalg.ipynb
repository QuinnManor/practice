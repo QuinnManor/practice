{
 "cells": [
  {
   "cell_type": "markdown",
   "metadata": {},
   "source": [
    "Variables and Simple Arithmetic"
   ]
  },
  {
   "cell_type": "code",
   "execution_count": 1,
   "metadata": {
    "ExecuteTime": {
     "end_time": "2020-12-14T16:22:43.697044Z",
     "start_time": "2020-12-14T16:22:43.687504Z"
    }
   },
   "outputs": [
    {
     "data": {
      "text/plain": [
       "27.1"
      ]
     },
     "execution_count": 1,
     "metadata": {},
     "output_type": "execute_result"
    }
   ],
   "source": [
    "a = 7.1\n",
    "b = 10\n",
    "\n",
    "a + b*2"
   ]
  },
  {
   "cell_type": "code",
   "execution_count": 2,
   "metadata": {
    "ExecuteTime": {
     "end_time": "2020-12-14T16:22:43.702443Z",
     "start_time": "2020-12-14T16:22:43.699133Z"
    }
   },
   "outputs": [
    {
     "name": "stdout",
     "output_type": "stream",
     "text": [
      "171\n",
      "2015993900449\n"
     ]
    }
   ],
   "source": [
    "mike = 17\n",
    "\n",
    "print(mike*b + 1)\n",
    "print(mike**b)"
   ]
  },
  {
   "cell_type": "markdown",
   "metadata": {},
   "source": [
    "The numpy module"
   ]
  },
  {
   "cell_type": "code",
   "execution_count": 3,
   "metadata": {
    "ExecuteTime": {
     "end_time": "2020-12-14T16:22:43.786298Z",
     "start_time": "2020-12-14T16:22:43.782612Z"
    }
   },
   "outputs": [
    {
     "data": {
      "text/plain": [
       "[1, 2, 3, 4]"
      ]
     },
     "execution_count": 3,
     "metadata": {},
     "output_type": "execute_result"
    }
   ],
   "source": [
    "num_list = [1, 2, 3, 4]\n",
    "num_list"
   ]
  },
  {
   "cell_type": "code",
   "execution_count": 4,
   "metadata": {
    "ExecuteTime": {
     "end_time": "2020-12-14T16:22:43.863913Z",
     "start_time": "2020-12-14T16:22:43.788455Z"
    }
   },
   "outputs": [
    {
     "name": "stdout",
     "output_type": "stream",
     "text": [
      "2.5\n",
      "2.0\n"
     ]
    }
   ],
   "source": [
    "import numpy as np\n",
    "\n",
    "print(np.mean(num_list)) # calculate the mean of a list\n",
    "print(np.sqrt(4)) # calculate square root"
   ]
  },
  {
   "cell_type": "code",
   "execution_count": 5,
   "metadata": {
    "ExecuteTime": {
     "end_time": "2020-12-14T16:22:43.871148Z",
     "start_time": "2020-12-14T16:22:43.866866Z"
    }
   },
   "outputs": [
    {
     "data": {
      "text/plain": [
       "array([ 3. ,  4.5,  6. ,  7.5,  9. , 10.5, 12. ])"
      ]
     },
     "execution_count": 5,
     "metadata": {},
     "output_type": "execute_result"
    }
   ],
   "source": [
    "np.linspace(1, 10, 7) # create 7 linearly spaced numbers between 1 and 10\n",
    "\n",
    "fun_out = np.linspace(1, 10, 7)\n",
    "fun_out + 2"
   ]
  },
  {
   "cell_type": "code",
   "execution_count": 6,
   "metadata": {
    "ExecuteTime": {
     "end_time": "2020-12-14T16:22:43.877848Z",
     "start_time": "2020-12-14T16:22:43.873701Z"
    }
   },
   "outputs": [
    {
     "data": {
      "text/plain": [
       "array([  4.        ,  10.85714286,  17.71428571,  24.57142857,\n",
       "        31.42857143,  38.28571429,  45.14285714,  52.        ,\n",
       "        58.85714286,  65.71428571,  72.57142857,  79.42857143,\n",
       "        86.28571429,  93.14285714, 100.        ])"
      ]
     },
     "execution_count": 6,
     "metadata": {},
     "output_type": "execute_result"
    }
   ],
   "source": [
    "# create a list of 15 numbers from 4 to 100\n",
    "np.linspace(4, 100, 15)"
   ]
  },
  {
   "cell_type": "code",
   "execution_count": 7,
   "metadata": {
    "ExecuteTime": {
     "end_time": "2020-12-14T16:22:43.884782Z",
     "start_time": "2020-12-14T16:22:43.880003Z"
    }
   },
   "outputs": [
    {
     "data": {
      "text/plain": [
       "array([  4.,  11.,  18.,  25.,  31.,  38.,  45.,  52.,  59.,  66.,  73.,\n",
       "        79.,  86.,  93., 100.])"
      ]
     },
     "execution_count": 7,
     "metadata": {},
     "output_type": "execute_result"
    }
   ],
   "source": [
    "# round numbers to nearest integer, and store in variable\n",
    "fun_out = np.round(np.linspace(4, 100, 15))\n",
    "fun_out"
   ]
  },
  {
   "cell_type": "code",
   "execution_count": 8,
   "metadata": {
    "ExecuteTime": {
     "end_time": "2020-12-14T16:22:43.889943Z",
     "start_time": "2020-12-14T16:22:43.886915Z"
    }
   },
   "outputs": [
    {
     "name": "stdout",
     "output_type": "stream",
     "text": [
      "[  4.  11.  18.  25.  31.  38.  45.  52.  59.  66.  73.  79.  86.  93.\n",
      " 100.]\n"
     ]
    }
   ],
   "source": [
    "# print out the above\n",
    "print(fun_out)"
   ]
  },
  {
   "cell_type": "code",
   "execution_count": 9,
   "metadata": {
    "ExecuteTime": {
     "end_time": "2020-12-14T16:22:43.896231Z",
     "start_time": "2020-12-14T16:22:43.892296Z"
    }
   },
   "outputs": [
    {
     "data": {
      "text/plain": [
       "array([ 2.        ,  3.31662479,  4.24264069,  5.        ,  5.56776436,\n",
       "        6.164414  ,  6.70820393,  7.21110255,  7.68114575,  8.1240384 ,\n",
       "        8.54400375,  8.88819442,  9.2736185 ,  9.64365076, 10.        ])"
      ]
     },
     "execution_count": 9,
     "metadata": {},
     "output_type": "execute_result"
    }
   ],
   "source": [
    "# print out the square root of each number in list\n",
    "np.sqrt(fun_out)"
   ]
  },
  {
   "cell_type": "markdown",
   "metadata": {
    "ExecuteTime": {
     "end_time": "2020-12-13T22:35:55.695466Z",
     "start_time": "2020-12-13T22:35:55.691157Z"
    }
   },
   "source": [
    "The matplotlib module"
   ]
  },
  {
   "cell_type": "code",
   "execution_count": 10,
   "metadata": {
    "ExecuteTime": {
     "end_time": "2020-12-14T16:22:44.233767Z",
     "start_time": "2020-12-14T16:22:43.900015Z"
    }
   },
   "outputs": [],
   "source": [
    "import matplotlib.pyplot as plt\n",
    "import numpy as np"
   ]
  },
  {
   "cell_type": "code",
   "execution_count": 11,
   "metadata": {
    "ExecuteTime": {
     "end_time": "2020-12-14T16:22:44.362063Z",
     "start_time": "2020-12-14T16:22:44.235916Z"
    }
   },
   "outputs": [
    {
     "data": {
      "image/png": "[encoded data removed]",
      "text/plain": [
       "<Figure size 432x288 with 1 Axes>"
      ]
     },
     "metadata": {
      "needs_background": "light"
     },
     "output_type": "display_data"
    }
   ],
   "source": [
    "plt.plot(1, 3, 'r*')\n",
    "plt.show()"
   ]
  },
  {
   "cell_type": "markdown",
   "metadata": {},
   "source": [
    "- a vector is a list of data"
   ]
  },
  {
   "cell_type": "code",
   "execution_count": 12,
   "metadata": {
    "ExecuteTime": {
     "end_time": "2020-12-14T16:22:44.488303Z",
     "start_time": "2020-12-14T16:22:44.364070Z"
    }
   },
   "outputs": [
    {
     "name": "stdout",
     "output_type": "stream",
     "text": [
      "[-9 -8 -7 -6 -5 -4 -3 -2 -1  0  1  2  3  4  5  6  7  8  9]\n",
      "[81 64 49 36 25 16  9  4  1  0  1  4  9 16 25 36 49 64 81]\n"
     ]
    },
    {
     "data": {
      "image/png": "[encoded data removed]",
      "text/plain": [
       "<Figure size 432x288 with 1 Axes>"
      ]
     },
     "metadata": {
      "needs_background": "light"
     },
     "output_type": "display_data"
    }
   ],
   "source": [
    "x = np.arange(-9, 10) # specify a range of numbers from -9 to 9\n",
    "print(x) # x is a vector\n",
    "\n",
    "y = x**2\n",
    "print(y) # y is a vector\n",
    "\n",
    "plt.plot(x, y, 'r')\n",
    "plt.plot(x, y/2, 'gs')\n",
    "\n",
    "plt.show()"
   ]
  },
  {
   "cell_type": "code",
   "execution_count": 13,
   "metadata": {
    "ExecuteTime": {
     "end_time": "2020-12-14T16:22:44.670415Z",
     "start_time": "2020-12-14T16:22:44.491237Z"
    }
   },
   "outputs": [
    {
     "data": {
      "image/png": "[encoded data removed]",
      "text/plain": [
       "<Figure size 432x288 with 1 Axes>"
      ]
     },
     "metadata": {
      "needs_background": "light"
     },
     "output_type": "display_data"
    }
   ],
   "source": [
    "plt.plot([0, 3], [-1, 1], label=\"first\")\n",
    "plt.plot([-2, 0], [-4, 1], label=\"second\")\n",
    "plt.legend()\n",
    "\n",
    "plt.show()"
   ]
  },
  {
   "cell_type": "markdown",
   "metadata": {},
   "source": [
    "- a matrix is a spreadsheet or table of data\n",
    "    - represented as images in graphics"
   ]
  },
  {
   "cell_type": "code",
   "execution_count": 14,
   "metadata": {
    "ExecuteTime": {
     "end_time": "2020-12-14T16:22:44.677889Z",
     "start_time": "2020-12-14T16:22:44.673286Z"
    }
   },
   "outputs": [
    {
     "data": {
      "text/plain": [
       "array([[6, 1, 2, 8, 7],\n",
       "       [9, 7, 9, 5, 0],\n",
       "       [3, 0, 6, 0, 3],\n",
       "       [4, 7, 3, 8, 6]])"
      ]
     },
     "execution_count": 14,
     "metadata": {},
     "output_type": "execute_result"
    }
   ],
   "source": [
    "M = np.random.randint(0, 10, size=(4,5)) # create 4R 5C matrix of random numbers between 0 and 9\n",
    "M"
   ]
  },
  {
   "cell_type": "code",
   "execution_count": 15,
   "metadata": {
    "ExecuteTime": {
     "end_time": "2020-12-14T16:22:44.845506Z",
     "start_time": "2020-12-14T16:22:44.680500Z"
    }
   },
   "outputs": [
    {
     "data": {
      "image/png": "[encoded data removed]",
      "text/plain": [
       "<Figure size 432x288 with 1 Axes>"
      ]
     },
     "metadata": {
      "needs_background": "light"
     },
     "output_type": "display_data"
    }
   ],
   "source": [
    "plt.imshow(M) # plot a matrix, box counts by color\n",
    "plt.show()"
   ]
  },
  {
   "cell_type": "code",
   "execution_count": 16,
   "metadata": {
    "ExecuteTime": {
     "end_time": "2020-12-14T16:22:45.013621Z",
     "start_time": "2020-12-14T16:22:44.847648Z"
    }
   },
   "outputs": [
    {
     "data": {
      "image/png": "[encoded data removed]",
      "text/plain": [
       "<Figure size 432x288 with 1 Axes>"
      ]
     },
     "metadata": {
      "needs_background": "light"
     },
     "output_type": "display_data"
    }
   ],
   "source": [
    "# create a red x through our matrix\n",
    "plt.imshow(M)\n",
    "plt.plot([0, 4], [0, 3], 'r')\n",
    "plt.plot([4, 0], [0, 3], 'r')\n",
    "plt.show()"
   ]
  },
  {
   "cell_type": "markdown",
   "metadata": {},
   "source": [
    "Vectors and Scalar Multiplication\n",
    "\n",
    "- Vector are an ordered list of numbers (ORDER MATTERS)\n",
    "- Dimensionality: The number of elements\n",
    "\n",
    "Types of vectors:\n",
    "1) Column vectors\n",
    "\n",
    "2) Row vectors"
   ]
  },
  {
   "cell_type": "code",
   "execution_count": 17,
   "metadata": {
    "ExecuteTime": {
     "end_time": "2020-12-14T16:22:45.020019Z",
     "start_time": "2020-12-14T16:22:45.015901Z"
    }
   },
   "outputs": [
    {
     "name": "stdout",
     "output_type": "stream",
     "text": [
      "[[0]\n",
      " [4]\n",
      " [3]\n",
      " [4]\n",
      " [3]]\n",
      "\n",
      "[4 3 0]\n"
     ]
    }
   ],
   "source": [
    "# 5 Dimensional Vector\n",
    "print(np.random.randint(0, 5, size=(5, 1))) # Col Vector\n",
    "print()\n",
    "\n",
    "# 3 Dimensional Vector\n",
    "print(np.random.randint(0, 5, 3)) # Row Vector"
   ]
  },
  {
   "cell_type": "markdown",
   "metadata": {},
   "source": [
    "Vector-Scalar Multiplication\n",
    "$\\lambda v$\n",
    "\n",
    "- $\\lambda$: a single number\n",
    "- $v$: a vector"
   ]
  },
  {
   "cell_type": "code",
   "execution_count": 18,
   "metadata": {
    "ExecuteTime": {
     "end_time": "2020-12-14T16:22:45.025772Z",
     "start_time": "2020-12-14T16:22:45.022014Z"
    }
   },
   "outputs": [
    {
     "name": "stdout",
     "output_type": "stream",
     "text": [
      "[[0]\n",
      " [0]\n",
      " [2]]\n"
     ]
    }
   ],
   "source": [
    "# Example\n",
    "\n",
    "s = 7 # our scalar\n",
    "v = np.random.randint(0, 5, size=(3, 1)) # our vector\n",
    "\n",
    "print(v) # printing our vector"
   ]
  },
  {
   "cell_type": "code",
   "execution_count": 19,
   "metadata": {
    "ExecuteTime": {
     "end_time": "2020-12-14T16:22:45.031793Z",
     "start_time": "2020-12-14T16:22:45.028323Z"
    }
   },
   "outputs": [
    {
     "data": {
      "text/plain": [
       "array([[ 0],\n",
       "       [ 0],\n",
       "       [14]])"
      ]
     },
     "execution_count": 19,
     "metadata": {},
     "output_type": "execute_result"
    }
   ],
   "source": [
    "# vector-scalar multiplication\n",
    "s*v"
   ]
  },
  {
   "cell_type": "markdown",
   "metadata": {},
   "source": [
    "- $\\lambda \\geq 1$: new vector will extend beyond original\n",
    "- $\\lambda [0,1]$: new vector will be smaller than original\n",
    "- $\\lambda \\leq 0$: new vector will be 180 degree mirror of original\n",
    "\n",
    "New vector is ALWAYS stays on the line of the original vector.\n",
    "\n",
    "Vectors must be array NOT LIST (check np.array)"
   ]
  },
  {
   "cell_type": "markdown",
   "metadata": {},
   "source": [
    "PLOT VECTORS IN PYTHON (3D < less Graphs)"
   ]
  },
  {
   "cell_type": "code",
   "execution_count": 20,
   "metadata": {
    "ExecuteTime": {
     "end_time": "2020-12-14T16:22:45.036977Z",
     "start_time": "2020-12-14T16:22:45.034133Z"
    }
   },
   "outputs": [],
   "source": [
    "vec = np.array([1,2])\n",
    "s1 = 2\n",
    "s2 = .5\n",
    "s3 = -1"
   ]
  },
  {
   "cell_type": "code",
   "execution_count": 21,
   "metadata": {
    "ExecuteTime": {
     "end_time": "2020-12-14T16:22:45.254174Z",
     "start_time": "2020-12-14T16:22:45.043670Z"
    }
   },
   "outputs": [
    {
     "data": {
      "image/png": "[encoded data removed]",
      "text/plain": [
       "<Figure size 432x288 with 1 Axes>"
      ]
     },
     "metadata": {
      "needs_background": "light"
     },
     "output_type": "display_data"
    }
   ],
   "source": [
    "plt.plot([0, vec[0]], [0, vec[1]], 'bs-', label='original')\n",
    "plt.plot([0, vec[0]*s1], [0, vec[1]*s1], 'ro-', label='positive')\n",
    "plt.plot([0, vec[0]*s2], [0, vec[1]*s2], 'kp-', label='0to1')\n",
    "plt.plot([0, vec[0]*s3],[0, vec[1]*s3], 'g*-', label='negative')\n",
    "\n",
    "plt.axis('square')\n",
    "plt.xlim([-4, 4])\n",
    "plt.ylim([-4, 4])\n",
    "plt.grid()\n",
    "plt.legend()\n",
    "plt.show()"
   ]
  },
  {
   "cell_type": "code",
   "execution_count": 22,
   "metadata": {
    "ExecuteTime": {
     "end_time": "2020-12-14T16:22:45.260910Z",
     "start_time": "2020-12-14T16:22:45.257937Z"
    }
   },
   "outputs": [],
   "source": [
    "# create two vectors (2D vectors)\n",
    "v1 = np.array(np.random.randint(0, 100, 2))\n",
    "v2 = np.array(np.random.randint(0, 100, 2))"
   ]
  },
  {
   "cell_type": "code",
   "execution_count": 23,
   "metadata": {
    "ExecuteTime": {
     "end_time": "2020-12-14T16:22:45.413819Z",
     "start_time": "2020-12-14T16:22:45.263171Z"
    }
   },
   "outputs": [
    {
     "data": {
      "image/png": "[encoded data removed]",
      "text/plain": [
       "<Figure size 432x288 with 1 Axes>"
      ]
     },
     "metadata": {
      "needs_background": "light"
     },
     "output_type": "display_data"
    }
   ],
   "source": [
    "# plot each vector\n",
    "plt.plot([0, v1[0]], [0, v1[1]], 'bs-', label='v1')\n",
    "plt.plot([0, v2[0]], [0, v2[1]], 'o-', label='v2')\n",
    "\n",
    "plt.axis('square')\n",
    "plt.xlim([-4, 4])\n",
    "plt.ylim([-4, 4])\n",
    "plt.grid()\n",
    "plt.legend()\n",
    "plt.show()"
   ]
  },
  {
   "cell_type": "code",
   "execution_count": 24,
   "metadata": {
    "ExecuteTime": {
     "end_time": "2020-12-14T16:22:45.588150Z",
     "start_time": "2020-12-14T16:22:45.416407Z"
    }
   },
   "outputs": [
    {
     "data": {
      "image/png": "[encoded data removed]",
      "text/plain": [
       "<Figure size 432x288 with 1 Axes>"
      ]
     },
     "metadata": {
      "needs_background": "light"
     },
     "output_type": "display_data"
    }
   ],
   "source": [
    "# plot v1+v2, v1-v2, (v1*4 + v2/2)\n",
    "# v1+v2\n",
    "plt.plot([0, (v1+v2)[0]], [0, (v1+v2)[1]], label='v1+v2')\n",
    "\n",
    "# v1-v2\n",
    "plt.plot([0, (v1-v2)[0]], [0, (v1-v2)[1]], label='v1-v2')\n",
    "\n",
    "# (v1*4 + v2/2)\n",
    "plt.plot([0, ((v1*4 + v2/2))[0]], [0, ((v1*4 + v2/2))[1]], label='(v1*4 + v2/2)')\n",
    "\n",
    "plt.axis('square')\n",
    "plt.xlim([-10, 20])\n",
    "plt.ylim([-10, 20])\n",
    "plt.grid()\n",
    "plt.legend()\n",
    "plt.show()"
   ]
  },
  {
   "cell_type": "markdown",
   "metadata": {},
   "source": [
    "The Vector Dot Product - Most important operation in LinAlg\n",
    "\n",
    "Various Product DOT Notations:\n",
    "- $\\alpha$\n",
    "- $ab$\n",
    "- $<a,b>$\n",
    "- $a^{T}b$ (most popular) - a transpose b\n",
    "- $\\sum a_i b_i$"
   ]
  },
  {
   "cell_type": "code",
   "execution_count": 25,
   "metadata": {
    "ExecuteTime": {
     "end_time": "2020-12-14T16:22:45.595281Z",
     "start_time": "2020-12-14T16:22:45.590330Z"
    }
   },
   "outputs": [
    {
     "name": "stdout",
     "output_type": "stream",
     "text": [
      "[1 2 3 4 5]\n",
      "[5 4 3 2 1]\n",
      "[5, 8, 9, 8, 5]\n",
      "35\n"
     ]
    }
   ],
   "source": [
    "# Example\n",
    "# Define two vectors of the same length\n",
    "a = np.array([1,2,3,4,5]) #5D Vector\n",
    "b = np.array([5,4,3,2,1]) #5D Vector\n",
    "\n",
    "print(a)\n",
    "print(b)\n",
    "\n",
    "# Now we need to multiple each element in Va by it's corresponding element in Vb\n",
    "dp = []\n",
    "for i in range(0, len(a)):\n",
    "    dp.append(a[i] * b[i])\n",
    "print(dp)\n",
    "\n",
    "# Now let's add them together\n",
    "print(np.sum(np.array(dp)))\n",
    "\n",
    "# Dot product is always just 1 number, it's just a scalar, \n",
    "# regarless of the number of elements in a vector\n",
    "# the operation fails when you have vectors of different sizes"
   ]
  },
  {
   "cell_type": "code",
   "execution_count": 26,
   "metadata": {
    "ExecuteTime": {
     "end_time": "2020-12-14T16:22:45.600898Z",
     "start_time": "2020-12-14T16:22:45.597317Z"
    }
   },
   "outputs": [
    {
     "data": {
      "text/plain": [
       "35"
      ]
     },
     "execution_count": 26,
     "metadata": {},
     "output_type": "execute_result"
    }
   ],
   "source": [
    "# NUMPYs has a built-in dot function\n",
    "np.dot(a, b) # same answer as above"
   ]
  },
  {
   "cell_type": "code",
   "execution_count": 27,
   "metadata": {
    "ExecuteTime": {
     "end_time": "2020-12-14T16:22:45.606815Z",
     "start_time": "2020-12-14T16:22:45.602654Z"
    }
   },
   "outputs": [
    {
     "data": {
      "text/plain": [
       "32"
      ]
     },
     "execution_count": 27,
     "metadata": {},
     "output_type": "execute_result"
    }
   ],
   "source": [
    "c = np.array([0,3,4,1,6])\n",
    "np.dot(b, c)"
   ]
  },
  {
   "cell_type": "code",
   "execution_count": 28,
   "metadata": {
    "ExecuteTime": {
     "end_time": "2020-12-14T16:22:45.612108Z",
     "start_time": "2020-12-14T16:22:45.608504Z"
    }
   },
   "outputs": [
    {
     "data": {
      "text/plain": [
       "0"
      ]
     },
     "execution_count": 28,
     "metadata": {},
     "output_type": "execute_result"
    }
   ],
   "source": [
    "# Let's try it with a zeros vector\n",
    "d = np.array([0,0,0,0,0])\n",
    "np.dot(c, d) # you'll always get 0 with a zeroes vector"
   ]
  },
  {
   "cell_type": "code",
   "execution_count": 29,
   "metadata": {
    "ExecuteTime": {
     "end_time": "2020-12-14T16:22:45.617874Z",
     "start_time": "2020-12-14T16:22:45.613736Z"
    }
   },
   "outputs": [
    {
     "data": {
      "text/plain": [
       "0"
      ]
     },
     "execution_count": 29,
     "metadata": {},
     "output_type": "execute_result"
    }
   ],
   "source": [
    "# Another way to get a 0 dot product with no zeroes vector\n",
    "# An example of orthognonal\n",
    "e = np.array([-4, 3, 1])\n",
    "f = np.array([2, 3, -1])\n",
    "np.dot(e, f) \n",
    "# vector e is orthogonal to vector f\n",
    "# orthogonal means two vectors have a dot product of 0"
   ]
  },
  {
   "cell_type": "code",
   "execution_count": 30,
   "metadata": {
    "ExecuteTime": {
     "end_time": "2020-12-14T16:22:45.623325Z",
     "start_time": "2020-12-14T16:22:45.619777Z"
    }
   },
   "outputs": [
    {
     "name": "stdout",
     "output_type": "stream",
     "text": [
      "0\n",
      "8\n",
      "-12\n"
     ]
    }
   ],
   "source": [
    "# define 3 2D vectors, two of them are orthogonal, but neither orthogonal to the third\n",
    "v1 = np.array([1, 2])\n",
    "v2 = np.array([-4, 2])\n",
    "v3 = np.array([4, 2])\n",
    "\n",
    "print(np.dot(v1, v2)) # v1 is orthogonal to v2\n",
    "print(np.dot(v1, v3))\n",
    "print(np.dot(v2, v3))"
   ]
  },
  {
   "cell_type": "code",
   "execution_count": 34,
   "metadata": {
    "ExecuteTime": {
     "end_time": "2020-12-14T16:23:25.225816Z",
     "start_time": "2020-12-14T16:23:25.072323Z"
    }
   },
   "outputs": [
    {
     "data": {
      "image/png": "[encoded data removed]",
      "text/plain": [
       "<Figure size 432x288 with 1 Axes>"
      ]
     },
     "metadata": {
      "needs_background": "light"
     },
     "output_type": "display_data"
    }
   ],
   "source": [
    "# plot all three vectors on a 2D plane, make sure axis are square and equal\n",
    "# v1\n",
    "plt.plot([0, v1[0]], [0, v1[1]], label='v1')\n",
    "\n",
    "# v2\n",
    "plt.plot([0, v2[0]], [0, v2[1]], label='v2')\n",
    "\n",
    "# v3\n",
    "plt.plot([0, v3[0]], [0, v3[1]], label='v3')\n",
    "\n",
    "plt.axis('square')\n",
    "plt.xlim([-5, 5])\n",
    "plt.ylim([-5, 5])\n",
    "plt.grid()\n",
    "plt.legend()\n",
    "plt.show()"
   ]
  },
  {
   "cell_type": "markdown",
   "metadata": {},
   "source": [
    "Matrices - a 2D collection of numbers, like a spreadsheet\n",
    "- the size is 4x3, rows x cols\n",
    "- **diagonal** of a matrix refers to the numbers that start from the top-left and go one-down, one-right\n",
    "- **off-diagonal** refers to everything outside of the diagonal\n",
    "- same rows and same cols = square matrix, a special matrix\n",
    "- **rectangular** matrices still have diagonals\n",
    "\n",
    "**Special types of Matrices**\n",
    "- Symmetric\n",
    "    - Same num rows x same num cols\n",
    "    - elements above the diagonal mirror elements below diagonal\n",
    "        - can fold over and see mirrored numbers\n",
    "- Identity (very important in LinAlg\n",
    "    - All 1s in the diagonal\n",
    "    - All 0s in the off-diagonal\n",
    "    - Has it's own syntax:\n",
    "        - $I_2$, a 2x2 identity matrix \n",
    "        - $I_5$, a 5x5 identity matrix\n",
    "        - $I$, identity matrix\n",
    "- Diagonal\n",
    "    - All diagonal elements are non-zero\n",
    "    - All non-diagonal elements are zero\n",
    "    - Identity matrix is a special case of the diagonal matrix"
   ]
  },
  {
   "cell_type": "code",
   "execution_count": 51,
   "metadata": {
    "ExecuteTime": {
     "end_time": "2020-12-14T16:52:52.340666Z",
     "start_time": "2020-12-14T16:52:52.333585Z"
    }
   },
   "outputs": [
    {
     "name": "stdout",
     "output_type": "stream",
     "text": [
      "[[ 1 -1  0]\n",
      " [-1 -2 -4]\n",
      " [ 0 -4  5]]\n",
      "\n",
      "[[1 0 0]\n",
      " [0 1 0]\n",
      " [0 0 1]]\n",
      "\n",
      "[[ 1  0  0]\n",
      " [ 0 -2  0]\n",
      " [ 0  0  5]]\n",
      "\n",
      "[[ 1  0  0  0]\n",
      " [ 0 -2  0  0]\n",
      " [ 0  0  5  0]]\n"
     ]
    }
   ],
   "source": [
    "# symmetric matrix\n",
    "print(np.array([[1,-1,0], [-1,-2,-4], [0,-4,5]]), end='\\n\\n')\n",
    "\n",
    "# identity matrix\n",
    "print(np.array([[1,0,0], [0,1,0], [0,0,1]]), end='\\n\\n')\n",
    "\n",
    "# square diagonal matrix\n",
    "print(np.array([[1,0,0], [0,-2,0], [0,0,5]]), end='\\n\\n')\n",
    "\n",
    "# rectangular diagonal matrix\n",
    "print(np.array([[1,0,0,0], [0,-2,0, 0], [0,0,5, 0]]))"
   ]
  },
  {
   "cell_type": "code",
   "execution_count": 58,
   "metadata": {
    "ExecuteTime": {
     "end_time": "2020-12-14T16:56:54.884215Z",
     "start_time": "2020-12-14T16:56:54.877910Z"
    }
   },
   "outputs": [
    {
     "name": "stdout",
     "output_type": "stream",
     "text": [
      "[[1. 0. 0.]\n",
      " [0. 1. 0.]\n",
      " [0. 0. 1.]]\n",
      "\n",
      "[[0. 0. 0. 0.]\n",
      " [0. 0. 0. 0.]\n",
      " [0. 0. 0. 0.]]\n",
      "\n",
      "[[14 14 14 14]\n",
      " [14 14 14 14]\n",
      " [14 14 14 14]]\n"
     ]
    }
   ],
   "source": [
    "# NUMPYS WAY OF IDENTITY MATRIX\n",
    "# ID MATRIX\n",
    "print(np.eye(3), end='\\n\\n') # creates a 3x3 identity matrix\n",
    "\n",
    "# Zeros matrix\n",
    "print(np.zeros((3,4)), end='\\n\\n') # 3x4 matrix of all zeros\n",
    "\n",
    "# Full Matrix\n",
    "# creates a matrix of specified size, and number to fill it in\n",
    "print(np.full((3,4), 14)) # 3x4 matrix with all 14s"
   ]
  },
  {
   "cell_type": "code",
   "execution_count": 63,
   "metadata": {
    "ExecuteTime": {
     "end_time": "2020-12-14T16:59:39.026183Z",
     "start_time": "2020-12-14T16:59:39.020250Z"
    }
   },
   "outputs": [
    {
     "name": "stdout",
     "output_type": "stream",
     "text": [
      "[[0. 0.]\n",
      " [0. 0.]]\n",
      "[[10 10]\n",
      " [10 10]]\n",
      "[[5 5]\n",
      " [5 5]\n",
      " [5 5]]\n"
     ]
    }
   ],
   "source": [
    "# create 3 matrices: 2x2, 2x2, 3x2\n",
    "M1 = np.zeros((2,2))\n",
    "M2 = np.full((2,2), 10)\n",
    "M3 = np.full((3,2), 5)\n",
    "\n",
    "print(M1)\n",
    "print(M2)\n",
    "print(M3)"
   ]
  },
  {
   "cell_type": "code",
   "execution_count": 97,
   "metadata": {
    "ExecuteTime": {
     "end_time": "2020-12-14T18:17:47.695130Z",
     "start_time": "2020-12-14T18:17:47.689743Z"
    }
   },
   "outputs": [
    {
     "data": {
      "text/plain": [
       "array([[0., 0.],\n",
       "       [0., 0.],\n",
       "       [0., 0.]])"
      ]
     },
     "execution_count": 97,
     "metadata": {},
     "output_type": "execute_result"
    }
   ],
   "source": [
    "M1_prod_M2 = np.dot(M1, M2)\n",
    "np.dot(M3, M1_prod_M2)"
   ]
  },
  {
   "cell_type": "markdown",
   "metadata": {},
   "source": [
    "Transposing Vectors and Matrices\n",
    "- Transposing doesn't change the elements\n",
    "- Doesn't change the order\n",
    "- Simply changes the dimensions\n",
    "- FLIPS ROWS INTO COLS AND COLS INTO ROWS\n",
    "\n",
    "**SYMMETRIC MATRIX**\n",
    "\n",
    "$A = A^T$, definition of a matrix"
   ]
  },
  {
   "cell_type": "code",
   "execution_count": 116,
   "metadata": {
    "ExecuteTime": {
     "end_time": "2020-12-14T18:22:46.726227Z",
     "start_time": "2020-12-14T18:22:46.720423Z"
    }
   },
   "outputs": [
    {
     "name": "stdout",
     "output_type": "stream",
     "text": [
      "[[ 2  3 -1]]\n",
      "\n",
      "[[ 2]\n",
      " [ 3]\n",
      " [-1]]\n"
     ]
    }
   ],
   "source": [
    "# TRANSPOSING VECTORS\n",
    "v1 = np.array([2,3,-1], ndmin=2)\n",
    "\n",
    "print(v1) # row vector\n",
    "print()\n",
    "print(v1.T) # col vector, this is how we transpose my folk!"
   ]
  },
  {
   "cell_type": "code",
   "execution_count": 117,
   "metadata": {
    "ExecuteTime": {
     "end_time": "2020-12-14T18:22:48.505621Z",
     "start_time": "2020-12-14T18:22:48.499223Z"
    }
   },
   "outputs": [
    {
     "name": "stdout",
     "output_type": "stream",
     "text": [
      "[[ 4.  9.  0.]\n",
      " [ 1.  1.  2.]\n",
      " [ 2. -1. -0.]]\n",
      "\n",
      "[[ 4.  1.  2.]\n",
      " [ 9.  1. -1.]\n",
      " [ 0.  2. -0.]]\n"
     ]
    }
   ],
   "source": [
    "# TRANSPOSING MATRICES\n",
    "M = np.round(np.random.randn(3,3) * 5)\n",
    "\n",
    "print(M)\n",
    "print()\n",
    "print(M.T)"
   ]
  },
  {
   "cell_type": "code",
   "execution_count": 122,
   "metadata": {
    "ExecuteTime": {
     "end_time": "2020-12-14T18:26:05.566597Z",
     "start_time": "2020-12-14T18:26:05.559790Z"
    }
   },
   "outputs": [
    {
     "name": "stdout",
     "output_type": "stream",
     "text": [
      "[[ 1.  1. -2.]\n",
      " [-3.  4.  3.]\n",
      " [ 7. -4. -2.]]\n",
      "\n",
      "[[ 1. -3.  7.]\n",
      " [ 1.  4. -4.]\n",
      " [-2.  3. -2.]]\n",
      "\n",
      "[[ 1.  1. -2.]\n",
      " [-3.  4.  3.]\n",
      " [ 7. -4. -2.]]\n"
     ]
    }
   ],
   "source": [
    "# what happens when we transpose twice?\n",
    "M = np.round(np.random.randn(3,3) * 5)\n",
    "MT = M.T\n",
    "MTT = MT.T\n",
    "\n",
    "print(M)\n",
    "print()\n",
    "print(MT)\n",
    "print()\n",
    "print(MTT)\n",
    "\n",
    "# When we transpose twice we get the original matrix"
   ]
  },
  {
   "cell_type": "code",
   "execution_count": 124,
   "metadata": {
    "ExecuteTime": {
     "end_time": "2020-12-14T18:26:45.074842Z",
     "start_time": "2020-12-14T18:26:45.068961Z"
    }
   },
   "outputs": [
    {
     "name": "stdout",
     "output_type": "stream",
     "text": [
      "[[ -6.   2.  -6.]\n",
      " [  6.  -6. -11.]\n",
      " [  4.   5.  -6.]\n",
      " [ -0.   0.   9.]]\n",
      "\n",
      "[[ -6.   6.   4.  -0.]\n",
      " [  2.  -6.   5.   0.]\n",
      " [ -6. -11.  -6.   9.]]\n"
     ]
    }
   ],
   "source": [
    "# confirm the transpose operation works on non-square matrices\n",
    "M1 = np.round(np.random.randn(4,3) * 5)\n",
    "print(M1)\n",
    "print()\n",
    "print(M1.T)"
   ]
  }
 ],
 "metadata": {
  "hide_input": false,
  "kernelspec": {
   "display_name": "Python 3",
   "language": "python",
   "name": "python3"
  },
  "language_info": {
   "codemirror_mode": {
    "name": "ipython",
    "version": 3
   },
   "file_extension": ".py",
   "mimetype": "text/x-python",
   "name": "python",
   "nbconvert_exporter": "python",
   "pygments_lexer": "ipython3",
   "version": "3.7.0"
  },
  "latex_envs": {
   "LaTeX_envs_menu_present": true,
   "autoclose": false,
   "autocomplete": false,
   "bibliofile": "biblio.bib",
   "cite_by": "apalike",
   "current_citInitial": 1,
   "eqLabelWithNumbers": true,
   "eqNumInitial": 1,
   "hotkeys": {
    "equation": "Ctrl-E",
    "itemize": "Ctrl-I"
   },
   "labels_anchors": false,
   "latex_user_defs": false,
   "report_style_numbering": false,
   "user_envs_cfg": false
  },
  "toc": {
   "base_numbering": 1,
   "nav_menu": {},
   "number_sections": true,
   "sideBar": true,
   "skip_h1_title": false,
   "title_cell": "Table of Contents",
   "title_sidebar": "Contents",
   "toc_cell": false,
   "toc_position": {},
   "toc_section_display": true,
   "toc_window_display": false
  },
  "varInspector": {
   "cols": {
    "lenName": 16,
    "lenType": 16,
    "lenVar": 40
   },
   "kernels_config": {
    "python": {
     "delete_cmd_postfix": "",
     "delete_cmd_prefix": "del ",
     "library": "var_list.py",
     "varRefreshCmd": "print(var_dic_list())"
    },
    "r": {
     "delete_cmd_postfix": ") ",
     "delete_cmd_prefix": "rm(",
     "library": "var_list.r",
     "varRefreshCmd": "cat(var_dic_list()) "
    }
   },
   "types_to_exclude": [
    "module",
    "function",
    "builtin_function_or_method",
    "instance",
    "_Feature"
   ],
   "window_display": false
  }
 },
 "nbformat": 4,
 "nbformat_minor": 4
}
