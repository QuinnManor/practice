{
 "cells": [
  {
   "cell_type": "markdown",
   "metadata": {},
   "source": [
    "Variables and Simple Arithmetic"
   ]
  },
  {
   "cell_type": "code",
   "execution_count": 1,
   "metadata": {
    "ExecuteTime": {
     "end_time": "2020-12-13T22:36:57.078366Z",
     "start_time": "2020-12-13T22:36:57.068608Z"
    }
   },
   "outputs": [
    {
     "data": {
      "text/plain": [
       "27.1"
      ]
     },
     "execution_count": 1,
     "metadata": {},
     "output_type": "execute_result"
    }
   ],
   "source": [
    "a = 7.1\n",
    "b = 10\n",
    "\n",
    "a + b*2"
   ]
  },
  {
   "cell_type": "code",
   "execution_count": 2,
   "metadata": {
    "ExecuteTime": {
     "end_time": "2020-12-13T22:36:57.083749Z",
     "start_time": "2020-12-13T22:36:57.080498Z"
    }
   },
   "outputs": [
    {
     "name": "stdout",
     "output_type": "stream",
     "text": [
      "171\n",
      "2015993900449\n"
     ]
    }
   ],
   "source": [
    "mike = 17\n",
    "\n",
    "print(mike*b + 1)\n",
    "print(mike**b)"
   ]
  },
  {
   "cell_type": "markdown",
   "metadata": {},
   "source": [
    "The numpy module"
   ]
  },
  {
   "cell_type": "code",
   "execution_count": 3,
   "metadata": {
    "ExecuteTime": {
     "end_time": "2020-12-13T22:36:57.139850Z",
     "start_time": "2020-12-13T22:36:57.135773Z"
    }
   },
   "outputs": [
    {
     "data": {
      "text/plain": [
       "[1, 2, 3, 4]"
      ]
     },
     "execution_count": 3,
     "metadata": {},
     "output_type": "execute_result"
    }
   ],
   "source": [
    "num_list = [1, 2, 3, 4]\n",
    "num_list"
   ]
  },
  {
   "cell_type": "code",
   "execution_count": 4,
   "metadata": {
    "ExecuteTime": {
     "end_time": "2020-12-13T22:36:57.226031Z",
     "start_time": "2020-12-13T22:36:57.141841Z"
    }
   },
   "outputs": [
    {
     "name": "stdout",
     "output_type": "stream",
     "text": [
      "2.5\n",
      "2.0\n"
     ]
    }
   ],
   "source": [
    "import numpy as np\n",
    "\n",
    "print(np.mean(num_list)) # calculate the mean of a list\n",
    "print(np.sqrt(4)) # calculate square root"
   ]
  },
  {
   "cell_type": "code",
   "execution_count": 5,
   "metadata": {
    "ExecuteTime": {
     "end_time": "2020-12-13T22:36:57.234099Z",
     "start_time": "2020-12-13T22:36:57.229336Z"
    }
   },
   "outputs": [
    {
     "data": {
      "text/plain": [
       "array([ 3. ,  4.5,  6. ,  7.5,  9. , 10.5, 12. ])"
      ]
     },
     "execution_count": 5,
     "metadata": {},
     "output_type": "execute_result"
    }
   ],
   "source": [
    "np.linspace(1, 10, 7) # create 7 linearly spaced numbers between 1 and 10\n",
    "\n",
    "fun_out = np.linspace(1, 10, 7)\n",
    "fun_out + 2"
   ]
  },
  {
   "cell_type": "code",
   "execution_count": 6,
   "metadata": {
    "ExecuteTime": {
     "end_time": "2020-12-13T22:36:57.243363Z",
     "start_time": "2020-12-13T22:36:57.237803Z"
    }
   },
   "outputs": [
    {
     "data": {
      "text/plain": [
       "array([  4.        ,  10.85714286,  17.71428571,  24.57142857,\n",
       "        31.42857143,  38.28571429,  45.14285714,  52.        ,\n",
       "        58.85714286,  65.71428571,  72.57142857,  79.42857143,\n",
       "        86.28571429,  93.14285714, 100.        ])"
      ]
     },
     "execution_count": 6,
     "metadata": {},
     "output_type": "execute_result"
    }
   ],
   "source": [
    "# create a list of 15 numbers from 4 to 100\n",
    "np.linspace(4, 100, 15)"
   ]
  },
  {
   "cell_type": "code",
   "execution_count": 7,
   "metadata": {
    "ExecuteTime": {
     "end_time": "2020-12-13T22:36:57.250313Z",
     "start_time": "2020-12-13T22:36:57.246127Z"
    }
   },
   "outputs": [
    {
     "data": {
      "text/plain": [
       "array([  4.,  11.,  18.,  25.,  31.,  38.,  45.,  52.,  59.,  66.,  73.,\n",
       "        79.,  86.,  93., 100.])"
      ]
     },
     "execution_count": 7,
     "metadata": {},
     "output_type": "execute_result"
    }
   ],
   "source": [
    "# round numbers to nearest integer, and store in variable\n",
    "fun_out = np.round(np.linspace(4, 100, 15))\n",
    "fun_out"
   ]
  },
  {
   "cell_type": "code",
   "execution_count": 8,
   "metadata": {
    "ExecuteTime": {
     "end_time": "2020-12-13T22:36:57.257570Z",
     "start_time": "2020-12-13T22:36:57.253354Z"
    }
   },
   "outputs": [
    {
     "name": "stdout",
     "output_type": "stream",
     "text": [
      "[  4.  11.  18.  25.  31.  38.  45.  52.  59.  66.  73.  79.  86.  93.\n",
      " 100.]\n"
     ]
    }
   ],
   "source": [
    "# print out the above\n",
    "print(fun_out)"
   ]
  },
  {
   "cell_type": "code",
   "execution_count": 9,
   "metadata": {
    "ExecuteTime": {
     "end_time": "2020-12-13T22:36:57.266515Z",
     "start_time": "2020-12-13T22:36:57.260378Z"
    }
   },
   "outputs": [
    {
     "data": {
      "text/plain": [
       "array([ 2.        ,  3.31662479,  4.24264069,  5.        ,  5.56776436,\n",
       "        6.164414  ,  6.70820393,  7.21110255,  7.68114575,  8.1240384 ,\n",
       "        8.54400375,  8.88819442,  9.2736185 ,  9.64365076, 10.        ])"
      ]
     },
     "execution_count": 9,
     "metadata": {},
     "output_type": "execute_result"
    }
   ],
   "source": [
    "# print out the square root of each number in list\n",
    "np.sqrt(fun_out)"
   ]
  },
  {
   "cell_type": "markdown",
   "metadata": {
    "ExecuteTime": {
     "end_time": "2020-12-13T22:35:55.695466Z",
     "start_time": "2020-12-13T22:35:55.691157Z"
    }
   },
   "source": [
    "The matplotlib module"
   ]
  },
  {
   "cell_type": "code",
   "execution_count": 10,
   "metadata": {
    "ExecuteTime": {
     "end_time": "2020-12-13T22:36:57.504797Z",
     "start_time": "2020-12-13T22:36:57.271555Z"
    }
   },
   "outputs": [],
   "source": [
    "import matplotlib.pyplot as plt\n",
    "import numpy as np"
   ]
  },
  {
   "cell_type": "code",
   "execution_count": 21,
   "metadata": {
    "ExecuteTime": {
     "end_time": "2020-12-13T22:39:52.184258Z",
     "start_time": "2020-12-13T22:39:52.017494Z"
    }
   },
   "outputs": [
    {
     "data": {
      "image/png": "[encoded data removed]",
      "text/plain": [
       "<Figure size 432x288 with 1 Axes>"
      ]
     },
     "metadata": {
      "needs_background": "light"
     },
     "output_type": "display_data"
    }
   ],
   "source": [
    "plt.plot(1, 3, 'r*')\n",
    "plt.show()"
   ]
  },
  {
   "cell_type": "markdown",
   "metadata": {},
   "source": [
    "- a vector is a list of data"
   ]
  },
  {
   "cell_type": "code",
   "execution_count": 30,
   "metadata": {
    "ExecuteTime": {
     "end_time": "2020-12-13T22:42:11.003957Z",
     "start_time": "2020-12-13T22:42:10.843764Z"
    }
   },
   "outputs": [
    {
     "name": "stdout",
     "output_type": "stream",
     "text": [
      "[-9 -8 -7 -6 -5 -4 -3 -2 -1  0  1  2  3  4  5  6  7  8  9]\n",
      "[81 64 49 36 25 16  9  4  1  0  1  4  9 16 25 36 49 64 81]\n"
     ]
    },
    {
     "data": {
      "image/png": "[encoded data removed]",
      "text/plain": [
       "<Figure size 432x288 with 1 Axes>"
      ]
     },
     "metadata": {
      "needs_background": "light"
     },
     "output_type": "display_data"
    }
   ],
   "source": [
    "x = np.arange(-9, 10) # specify a range of numbers from -9 to 9\n",
    "print(x) # x is a vector\n",
    "\n",
    "y = x**2\n",
    "print(y) # y is a vector\n",
    "\n",
    "plt.plot(x, y, 'r')\n",
    "plt.plot(x, y/2, 'gs')\n",
    "\n",
    "plt.show()"
   ]
  },
  {
   "cell_type": "code",
   "execution_count": 36,
   "metadata": {
    "ExecuteTime": {
     "end_time": "2020-12-13T22:46:28.620156Z",
     "start_time": "2020-12-13T22:46:28.414636Z"
    }
   },
   "outputs": [
    {
     "data": {
      "image/png": "[encoded data removed]",
      "text/plain": [
       "<Figure size 432x288 with 1 Axes>"
      ]
     },
     "metadata": {
      "needs_background": "light"
     },
     "output_type": "display_data"
    }
   ],
   "source": [
    "plt.plot([0, 3], [-1, 1], label=\"first\")\n",
    "plt.plot([-2, 0], [-4, 1], label=\"second\")\n",
    "plt.legend()\n",
    "\n",
    "plt.show()"
   ]
  },
  {
   "cell_type": "markdown",
   "metadata": {},
   "source": [
    "- a matrix is a spreadsheet or table of data\n",
    "    - represented as images in graphics"
   ]
  },
  {
   "cell_type": "code",
   "execution_count": 48,
   "metadata": {
    "ExecuteTime": {
     "end_time": "2020-12-13T22:49:34.029820Z",
     "start_time": "2020-12-13T22:49:34.024014Z"
    }
   },
   "outputs": [
    {
     "data": {
      "text/plain": [
       "array([[3, 6, 1, 0, 5],\n",
       "       [1, 1, 3, 4, 1],\n",
       "       [4, 1, 6, 0, 7],\n",
       "       [0, 8, 0, 3, 7]])"
      ]
     },
     "execution_count": 48,
     "metadata": {},
     "output_type": "execute_result"
    }
   ],
   "source": [
    "M = np.random.randint(0, 10, size=(4,5)) # create 4R 5C matrix of random numbers between 0 and 9\n",
    "M"
   ]
  },
  {
   "cell_type": "code",
   "execution_count": 67,
   "metadata": {
    "ExecuteTime": {
     "end_time": "2020-12-13T22:54:23.741156Z",
     "start_time": "2020-12-13T22:54:23.605300Z"
    }
   },
   "outputs": [
    {
     "data": {
      "image/png": "[encoded data removed]",
      "text/plain": [
       "<Figure size 432x288 with 1 Axes>"
      ]
     },
     "metadata": {
      "needs_background": "light"
     },
     "output_type": "display_data"
    }
   ],
   "source": [
    "plt.imshow(M) # plot a matrix, box counts by color\n",
    "plt.show()"
   ]
  },
  {
   "cell_type": "code",
   "execution_count": 114,
   "metadata": {
    "ExecuteTime": {
     "end_time": "2020-12-13T23:01:09.022533Z",
     "start_time": "2020-12-13T23:01:08.838553Z"
    }
   },
   "outputs": [
    {
     "data": {
      "image/png": "[encoded data removed]",
      "text/plain": [
       "<Figure size 432x288 with 1 Axes>"
      ]
     },
     "metadata": {
      "needs_background": "light"
     },
     "output_type": "display_data"
    }
   ],
   "source": [
    "# create a red x through our matrix\n",
    "plt.imshow(M)\n",
    "plt.plot([0, 4], [0, 3], 'r')\n",
    "plt.plot([4, 0], [0, 3], 'r')\n",
    "plt.show()"
   ]
  },
  {
   "cell_type": "markdown",
   "metadata": {},
   "source": [
    "Vectors and Scalar Multiplication\n",
    "\n",
    "- Vector are an ordered list of numbers (ORDER MATTERS)\n",
    "- Dimensionality: The number of elements\n",
    "\n",
    "Types of vectors:\n",
    "1) Column vectors\n",
    "\n",
    "2) Row vectors"
   ]
  },
  {
   "cell_type": "code",
   "execution_count": 138,
   "metadata": {
    "ExecuteTime": {
     "end_time": "2020-12-13T23:09:03.122041Z",
     "start_time": "2020-12-13T23:09:03.116336Z"
    }
   },
   "outputs": [
    {
     "name": "stdout",
     "output_type": "stream",
     "text": [
      "[[3]\n",
      " [1]\n",
      " [2]\n",
      " [0]\n",
      " [0]]\n",
      "\n",
      "[4 1 2]\n"
     ]
    }
   ],
   "source": [
    "# 5 Dimensional Vector\n",
    "print(np.random.randint(0, 5, size=(5, 1))) # Col Vector\n",
    "print()\n",
    "\n",
    "# 3 Dimensional Vector\n",
    "print(np.random.randint(0, 5, 3)) # Row Vector"
   ]
  },
  {
   "cell_type": "markdown",
   "metadata": {},
   "source": [
    "Vector-Scalar Multiplication\n",
    "$\\lambda v$\n",
    "\n",
    "- $\\lambda$: a single number\n",
    "- $v$: a vector"
   ]
  },
  {
   "cell_type": "code",
   "execution_count": 146,
   "metadata": {
    "ExecuteTime": {
     "end_time": "2020-12-13T23:20:07.466434Z",
     "start_time": "2020-12-13T23:20:07.461099Z"
    }
   },
   "outputs": [
    {
     "name": "stdout",
     "output_type": "stream",
     "text": [
      "[[4]\n",
      " [3]\n",
      " [2]]\n"
     ]
    }
   ],
   "source": [
    "# Example\n",
    "\n",
    "s = 7 # our scalar\n",
    "v = np.random.randint(0, 5, size=(3, 1)) # our vector\n",
    "\n",
    "print(v) # printing our vector"
   ]
  },
  {
   "cell_type": "code",
   "execution_count": 147,
   "metadata": {
    "ExecuteTime": {
     "end_time": "2020-12-13T23:20:08.569895Z",
     "start_time": "2020-12-13T23:20:08.564675Z"
    }
   },
   "outputs": [
    {
     "data": {
      "text/plain": [
       "array([[28],\n",
       "       [21],\n",
       "       [14]])"
      ]
     },
     "execution_count": 147,
     "metadata": {},
     "output_type": "execute_result"
    }
   ],
   "source": [
    "# vector-scalar multiplication\n",
    "s*v"
   ]
  },
  {
   "cell_type": "markdown",
   "metadata": {},
   "source": [
    "- $\\lambda \\geq 1$: new vector will extend beyond original\n",
    "- $\\lambda [0,1]$: new vector will be smaller than original\n",
    "- $\\lambda \\leq 0$: new vector will be 180 degree mirror of original\n",
    "\n",
    "New vector is ALWAYS stays on the line of the original vector.\n",
    "\n",
    "Vectors must be array NOT LIST (check np.array)"
   ]
  },
  {
   "cell_type": "markdown",
   "metadata": {},
   "source": [
    "PLOT VECTORS IN PYTHON (3D < less Graphs)"
   ]
  },
  {
   "cell_type": "code",
   "execution_count": 154,
   "metadata": {
    "ExecuteTime": {
     "end_time": "2020-12-13T23:32:27.346464Z",
     "start_time": "2020-12-13T23:32:27.343020Z"
    }
   },
   "outputs": [],
   "source": [
    "vec = np.array([1,2])\n",
    "s1 = 2\n",
    "s2 = .5\n",
    "s3 = -1"
   ]
  },
  {
   "cell_type": "code",
   "execution_count": 175,
   "metadata": {
    "ExecuteTime": {
     "end_time": "2020-12-14T00:22:42.719521Z",
     "start_time": "2020-12-14T00:22:42.512337Z"
    }
   },
   "outputs": [
    {
     "data": {
      "image/png": "[encoded data removed]",
      "text/plain": [
       "<Figure size 432x288 with 1 Axes>"
      ]
     },
     "metadata": {
      "needs_background": "light"
     },
     "output_type": "display_data"
    }
   ],
   "source": [
    "plt.plot([0, vec[0]], [0, vec[1]], 'bs-', label='original')\n",
    "plt.plot([0, vec[0]*s1], [0, vec[1]*s1], 'ro-', label='positive')\n",
    "plt.plot([0, vec[0]*s2], [0, vec[1]*s2], 'kp-', label='0to1')\n",
    "plt.plot([0, vec[0]*s3],[0, vec[1]*s3], 'g*-', label='negative')\n",
    "\n",
    "plt.axis('square')\n",
    "plt.xlim([-4, 4])\n",
    "plt.ylim([-4, 4])\n",
    "plt.grid()\n",
    "plt.legend()\n",
    "plt.show()"
   ]
  },
  {
   "cell_type": "code",
   "execution_count": 177,
   "metadata": {
    "ExecuteTime": {
     "end_time": "2020-12-14T00:25:16.496131Z",
     "start_time": "2020-12-14T00:25:16.491797Z"
    }
   },
   "outputs": [],
   "source": [
    "# create two vectors (2D vectors)\n",
    "v1 = np.array(np.random.randint(0, 100, 2))\n",
    "v2 = np.array(np.random.randint(0, 100, 2))"
   ]
  },
  {
   "cell_type": "code",
   "execution_count": 181,
   "metadata": {
    "ExecuteTime": {
     "end_time": "2020-12-14T00:26:39.609038Z",
     "start_time": "2020-12-14T00:26:39.457987Z"
    }
   },
   "outputs": [
    {
     "data": {
      "image/png": "[encoded data removed]",
      "text/plain": [
       "<Figure size 432x288 with 1 Axes>"
      ]
     },
     "metadata": {
      "needs_background": "light"
     },
     "output_type": "display_data"
    }
   ],
   "source": [
    "# plot each vector\n",
    "plt.plot([0, v1[0]], [0, v1[1]], 'bs-', label='v1')\n",
    "plt.plot([0, v2[0]], [0, v2[1]], 'o-', label='v2')\n",
    "\n",
    "plt.axis('square')\n",
    "plt.xlim([-4, 4])\n",
    "plt.ylim([-4, 4])\n",
    "plt.grid()\n",
    "plt.legend()\n",
    "plt.show()"
   ]
  },
  {
   "cell_type": "code",
   "execution_count": 207,
   "metadata": {
    "ExecuteTime": {
     "end_time": "2020-12-14T00:33:21.882892Z",
     "start_time": "2020-12-14T00:33:21.669455Z"
    }
   },
   "outputs": [
    {
     "data": {
      "image/png": "[encoded data removed]",
      "text/plain": [
       "<Figure size 432x288 with 1 Axes>"
      ]
     },
     "metadata": {
      "needs_background": "light"
     },
     "output_type": "display_data"
    }
   ],
   "source": [
    "# plot v1+v2, v1-v2, (v1*4 + v2/2)\n",
    "# v1+v2\n",
    "plt.plot([0, (v1+v2)[0]], [0, (v1+v2)[1]], label='v1+v2')\n",
    "\n",
    "# v1-v2\n",
    "plt.plot([0, (v1-v2)[0]], [0, (v1-v2)[1]], label='v1-v2')\n",
    "\n",
    "# (v1*4 + v2/2)\n",
    "plt.plot([0, ((v1*4 + v2/2))[0]], [0, ((v1*4 + v2/2))[1]], label='(v1*4 + v2/2)')\n",
    "\n",
    "plt.axis('square')\n",
    "plt.xlim([-10, 20])\n",
    "plt.ylim([-10, 20])\n",
    "plt.grid()\n",
    "plt.legend()\n",
    "plt.show()"
   ]
  },
  {
   "cell_type": "markdown",
   "metadata": {},
   "source": [
    "The Vector Dot Product"
   ]
  }
 ],
 "metadata": {
  "hide_input": false,
  "kernelspec": {
   "display_name": "Python 3",
   "language": "python",
   "name": "python3"
  },
  "language_info": {
   "codemirror_mode": {
    "name": "ipython",
    "version": 3
   },
   "file_extension": ".py",
   "mimetype": "text/x-python",
   "name": "python",
   "nbconvert_exporter": "python",
   "pygments_lexer": "ipython3",
   "version": "3.7.0"
  },
  "latex_envs": {
   "LaTeX_envs_menu_present": true,
   "autoclose": false,
   "autocomplete": false,
   "bibliofile": "biblio.bib",
   "cite_by": "apalike",
   "current_citInitial": 1,
   "eqLabelWithNumbers": true,
   "eqNumInitial": 1,
   "hotkeys": {
    "equation": "Ctrl-E",
    "itemize": "Ctrl-I"
   },
   "labels_anchors": false,
   "latex_user_defs": false,
   "report_style_numbering": false,
   "user_envs_cfg": false
  },
  "toc": {
   "base_numbering": 1,
   "nav_menu": {},
   "number_sections": true,
   "sideBar": true,
   "skip_h1_title": false,
   "title_cell": "Table of Contents",
   "title_sidebar": "Contents",
   "toc_cell": false,
   "toc_position": {},
   "toc_section_display": true,
   "toc_window_display": false
  },
  "varInspector": {
   "cols": {
    "lenName": 16,
    "lenType": 16,
    "lenVar": 40
   },
   "kernels_config": {
    "python": {
     "delete_cmd_postfix": "",
     "delete_cmd_prefix": "del ",
     "library": "var_list.py",
     "varRefreshCmd": "print(var_dic_list())"
    },
    "r": {
     "delete_cmd_postfix": ") ",
     "delete_cmd_prefix": "rm(",
     "library": "var_list.r",
     "varRefreshCmd": "cat(var_dic_list()) "
    }
   },
   "types_to_exclude": [
    "module",
    "function",
    "builtin_function_or_method",
    "instance",
    "_Feature"
   ],
   "window_display": false
  }
 },
 "nbformat": 4,
 "nbformat_minor": 4
}
