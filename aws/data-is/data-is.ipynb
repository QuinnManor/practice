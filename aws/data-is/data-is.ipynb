{
 "cells": [
  {
   "cell_type": "markdown",
   "metadata": {},
   "source": [
    "# Big Data Intro\n",
    "\n",
    "**Big Data** - the process used when traditional data mining cannot uncover insights and meaning of underlying data. \n",
    "- unstructured\n",
    "- time sensitive\n",
    "- streaming data\n",
    "- large scale data that can't be processed via database engines\n",
    "\n",
    "Which uses massive parallelism on readily-available hardware.\n",
    "\n",
    "**Big Data Topics**\n",
    "- Analytics\n",
    "- Architecture\n",
    "- High Performance Computing\n",
    "- Streaming Data\n",
    "- Visualization\n",
    "\n",
    "## Three V's of Big Data\n",
    "**Volume, Variety, Velocity**\n",
    "\n",
    "**Volume** - Ranges from terabytes to petabytes of data\n",
    "\n",
    "**Variety** - Includes data from a variety of sources and formats\n",
    "- Web logs\n",
    "- Social media interactions\n",
    "- Ecommerce transactions\n",
    "- Financial transactions"
   ]
  },
  {
   "cell_type": "markdown",
   "metadata": {},
   "source": [
    "# Big Data Architecture\n",
    "A Data Architect aligns the data, software, hardware, networks, cloud services, developers, testers, sysadmins, DBAs, and other components of IT Infrastructure\n",
    "\n",
    "**Hadoop Ecosystem**\n",
    "- HDFS: Distributed file system\n",
    "- Yarn: DIstributed processing framework\n",
    "- Zookeeper: Coordination\n",
    "- Flume: Log Collector\n",
    "- Sqoop: Data Exchange\n",
    "- Oozie: Workflow\n",
    "- Pig: Scripting\n",
    "- Mahout: Machine Learning\n",
    "- R Connections: Statistics\n",
    "- Hive: SQL Query\n",
    "- HBase: Columnar Store\n",
    "- Ambari: Provisioning, Managing and Monitoring Hadoop Clusters"
   ]
  },
  {
   "cell_type": "markdown",
   "metadata": {},
   "source": [
    "# Big Data and HPC\n",
    "High Performance Computing (HPC) allows scientists and engineers to solve complex, computer-intensive problems. HPC applications require:\n",
    "- high network performance\n",
    "- fast storage\n",
    "- large amounts of memory\n",
    "- high compute capabilities"
   ]
  },
  {
   "cell_type": "markdown",
   "metadata": {},
   "source": [
    "# Big Data and Visualization\n",
    "The process of displaying data/information in graphical charts and figures. Visually report findings to others, but to do this effectively, you need to pick the right figure or chart.\n",
    "- KPIs: Single value that is a reflection of how you're doing in a particular area. KPI charts\n",
    "- Relationships: Establish whether a relationship exists between 2 or more variables. Scatter/Bubble Chart\n",
    "- Comparisons: Show or examine variable changes. Bar Chart, Table, Column Chart, Line Chart\n",
    "- Distributions: Depict how your data is distributed over certain invervals. Column Histogram, Scatter Chart\n",
    "- Compositions: Highlight elements that make up our data. Whether data is static or changing over time. Stacked Pie Chart, Tree Map, Stacked Charts"
   ]
  },
  {
   "cell_type": "markdown",
   "metadata": {},
   "source": [
    "# Big Data and Streaming\n",
    "The process of transferring a stream of data from one place to another to a sender and recipient or through a network trajectory. Before streaming data understand batch processing and stream processing\n",
    "\n",
    "## Batch Processing\n",
    "Used to compute arbitrary queries over different sets of data. Computes results derived from all the data it encompasses (MapReduce does batch processing).\n",
    "- Data Scope: Queries or processing over all or most of the data in a dataset\n",
    "- Data Size: Large batches of Data\n",
    "- Performance: Latencies in minutes to hours\n",
    "- Analysis: Complex Analytics\n",
    "\n",
    "## Stream Processing\n",
    "Requires ingesting a sequence of data, and incrementally updating metrics, reports, and summary statistics in response to each arriving data record. Better suited for real-time monitoring\n",
    "- Data Scope: Queries or processing over data within a rolling time windo, or on just the most recent data\n",
    "- Data Size: Individual records or micro batches consisting of a few records\n",
    "- Performance: Requires latency in the order of seconds or milliseconds\n",
    "- Analysis: Simple response functions, aggregates, and rolling metrics"
   ]
  },
  {
   "cell_type": "markdown",
   "metadata": {},
   "source": [
    "# Data and Databases\n",
    "## Data Structures\n",
    "one of the most common topics for developer job interview questions. The good news is that they're basically just specialized formats for organizing and storing data\n",
    "\n",
    "- 1D Arrays\n",
    "- ND Arrays\n",
    "- Dynamic Arrays\n",
    "- Singly Linked List\n",
    "- Doubly Linked List\n",
    "- Circular Linked List\n",
    "- Stack\n",
    "- Queue\n",
    "- Trees\n",
    "- Binary Search Trees"
   ]
  },
  {
   "cell_type": "markdown",
   "metadata": {},
   "source": [
    "## Data Management and Data Migration\n",
    "### Data Management\n",
    "A database management system (DBMS) is system software for creating and managing databases. The DBMS provides users and programmers with a systematic way to create, retrieve, update and manage data.\n",
    "\n",
    "## Data Migration\n",
    "Transporting data between computers, storage devices, and storage formats; **AWS Schema Conversion Tool**"
   ]
  },
  {
   "cell_type": "markdown",
   "metadata": {},
   "source": [
    "## Data warehouses and lakes\n",
    "**Data Warehouse** - Collection of info derived from operational systems and external sources. Designed to allow data consolidation, analysis, and reporting at various aggregated levels. Data is populated through **extraction, transformation, and loading** (**ETL**). **Stores data in files or folders**\n",
    "\n",
    "**Data Lake** - Storage repository that holds a vast amount of raw data in its native form until the data is needed. Stores data with flat architecture (or raw data format)\n",
    "\n",
    "A **data warehouse** utilizes a pre-defined schema optimized for analytics.\n",
    " \n",
    "A **data lake** is a centralized repository for all data, including structured and unstructured.\n",
    "\n",
    "**Data Warehouse**\n",
    "- Data: Relational data from transactional systems, operational databases, and line of business applications\n",
    "- Schema: Designed prior to the data warehouse implementation (schema-on-write)\n",
    "- Price/Performance: Fastest query results using higher cost storage\n",
    "- Data Quality: Highly curated data that serves as the central version of the truth\n",
    "- Users: Business analysts, data scientists, and data developers\n",
    "- Analytics: Batch reporting, BI, and visualizations\n",
    "\n",
    "**Data Lake**\n",
    "- Data: Non-relational and relational data from IoT devices, web sites, mobile apps, social media, and corporate applications\n",
    "- Schema: Written at the time of analysis (schema-on-read)\n",
    "- Price/Performance: Query results getting faster using low-cost storage\n",
    "- Data Quality: Any data that may or may not be curated (i.e. raw data)\n",
    "- Users: Data scientists, data developers, and business analysts (using curated data)\n",
    "- Analytics: Machine learning, predictive analytics, data discovery, and profiling"
   ]
  },
  {
   "cell_type": "markdown",
   "metadata": {},
   "source": [
    "## Relational\n",
    "Collective set of multiple datasets organized by tables, records, and columns."
   ]
  },
  {
   "cell_type": "markdown",
   "metadata": {},
   "source": [
    "## Non-Relational"
   ]
  }
 ],
 "metadata": {
  "hide_input": false,
  "kernelspec": {
   "display_name": "Python 3",
   "language": "python",
   "name": "python3"
  },
  "language_info": {
   "codemirror_mode": {
    "name": "ipython",
    "version": 3
   },
   "file_extension": ".py",
   "mimetype": "text/x-python",
   "name": "python",
   "nbconvert_exporter": "python",
   "pygments_lexer": "ipython3",
   "version": "3.7.0"
  },
  "latex_envs": {
   "LaTeX_envs_menu_present": true,
   "autoclose": false,
   "autocomplete": false,
   "bibliofile": "biblio.bib",
   "cite_by": "apalike",
   "current_citInitial": 1,
   "eqLabelWithNumbers": true,
   "eqNumInitial": 1,
   "hotkeys": {
    "equation": "Ctrl-E",
    "itemize": "Ctrl-I"
   },
   "labels_anchors": false,
   "latex_user_defs": false,
   "report_style_numbering": false,
   "user_envs_cfg": false
  },
  "toc": {
   "base_numbering": 1,
   "nav_menu": {},
   "number_sections": true,
   "sideBar": true,
   "skip_h1_title": false,
   "title_cell": "Table of Contents",
   "title_sidebar": "Contents",
   "toc_cell": false,
   "toc_position": {},
   "toc_section_display": true,
   "toc_window_display": false
  },
  "varInspector": {
   "cols": {
    "lenName": 16,
    "lenType": 16,
    "lenVar": 40
   },
   "kernels_config": {
    "python": {
     "delete_cmd_postfix": "",
     "delete_cmd_prefix": "del ",
     "library": "var_list.py",
     "varRefreshCmd": "print(var_dic_list())"
    },
    "r": {
     "delete_cmd_postfix": ") ",
     "delete_cmd_prefix": "rm(",
     "library": "var_list.r",
     "varRefreshCmd": "cat(var_dic_list()) "
    }
   },
   "types_to_exclude": [
    "module",
    "function",
    "builtin_function_or_method",
    "instance",
    "_Feature"
   ],
   "window_display": false
  }
 },
 "nbformat": 4,
 "nbformat_minor": 4
}
